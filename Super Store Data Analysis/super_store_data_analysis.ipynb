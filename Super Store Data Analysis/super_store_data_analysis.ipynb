{
  "cells": [
    {
      "cell_type": "code",
      "execution_count": null,
      "metadata": {
        "colab": {
          "base_uri": "https://localhost:8080/"
        },
        "id": "iWieLFs7b2iz",
        "outputId": "56937bba-4020-485a-f8b4-fb12b4e10708"
      },
      "outputs": [
        {
          "output_type": "stream",
          "name": "stdout",
          "text": [
            "hello world\n"
          ]
        }
      ],
      "source": [
        "print(\"hello world\")\n",
        "\n",
        "import pandas as pd\n",
        "import numpy as np\n",
        "import seaborn as sns\n",
        "import matplotlib.pyplot as plt\n"
      ]
    },
    {
      "cell_type": "code",
      "execution_count": null,
      "metadata": {
        "colab": {
          "base_uri": "https://localhost:8080/"
        },
        "id": "QCczdt3Cpgvv",
        "outputId": "022cba50-caea-4e8a-a699-5229c1185ad0"
      },
      "outputs": [
        {
          "output_type": "stream",
          "name": "stdout",
          "text": [
            "Drive already mounted at /content/drive; to attempt to forcibly remount, call drive.mount(\"/content/drive\", force_remount=True).\n"
          ]
        }
      ],
      "source": [
        "from google.colab import drive\n",
        "drive.mount('/content/drive')"
      ]
    },
    {
      "cell_type": "code",
      "execution_count": null,
      "metadata": {
        "id": "M-vErGc5cw_r"
      },
      "outputs": [],
      "source": [
        "df=pd.read_csv(\"/content/drive/MyDrive/SuperStoreOrders.csv\")"
      ]
    },
    {
      "cell_type": "markdown",
      "metadata": {
        "id": "b7e1fuPOk4Q9"
      },
      "source": [
        "To find the top 5 rows of the dataset"
      ]
    },
    {
      "cell_type": "code",
      "execution_count": null,
      "metadata": {
        "colab": {
          "base_uri": "https://localhost:8080/",
          "height": 366
        },
        "id": "oehqdtz4czrp",
        "outputId": "21e749bc-9a60-4e4f-8882-bd4072855ac4"
      },
      "outputs": [
        {
          "output_type": "execute_result",
          "data": {
            "text/plain": [
              "          order_id  order_date   ship_date       ship_mode    customer_name  \\\n",
              "0     AG-2011-2040  01-01-2011  06-01-2011  Standard Class  Toby Braunhardt   \n",
              "1    IN-2011-47883  01-01-2011  08-01-2011  Standard Class      Joseph Holt   \n",
              "2     HU-2011-1220  01-01-2011  05-01-2011    Second Class    Annie Thurman   \n",
              "3  IT-2011-3647632  01-01-2011  05-01-2011    Second Class     Eugene Moren   \n",
              "4    IN-2011-47883  01-01-2011  08-01-2011  Standard Class      Joseph Holt   \n",
              "\n",
              "       segment            state    country  market   region  ...  \\\n",
              "0     Consumer      Constantine    Algeria  Africa   Africa  ...   \n",
              "1     Consumer  New South Wales  Australia    APAC  Oceania  ...   \n",
              "2     Consumer         Budapest    Hungary    EMEA     EMEA  ...   \n",
              "3  Home Office        Stockholm     Sweden      EU    North  ...   \n",
              "4     Consumer  New South Wales  Australia    APAC  Oceania  ...   \n",
              "\n",
              "          category sub_category                 product_name sales quantity  \\\n",
              "0  Office Supplies      Storage          Tenex Lockers, Blue   408        2   \n",
              "1  Office Supplies     Supplies     Acme Trimmer, High Speed   120        3   \n",
              "2  Office Supplies      Storage      Tenex Box, Single Width    66        4   \n",
              "3  Office Supplies        Paper  Enermax Note Cards, Premium    45        3   \n",
              "4        Furniture  Furnishings   Eldon Light Bulb, Duo Pack   114        5   \n",
              "\n",
              "   discount   profit  shipping_cost  order_priority  year  \n",
              "0       0.0  106.140          35.46          Medium  2011  \n",
              "1       0.1   36.036           9.72          Medium  2011  \n",
              "2       0.0   29.640           8.17            High  2011  \n",
              "3       0.5  -26.055           4.82            High  2011  \n",
              "4       0.1   37.770           4.70          Medium  2011  \n",
              "\n",
              "[5 rows x 21 columns]"
            ],
            "text/html": [
              "\n",
              "  <div id=\"df-fbf01826-3cbe-48d4-9e68-79b3ef9f3960\">\n",
              "    <div class=\"colab-df-container\">\n",
              "      <div>\n",
              "<style scoped>\n",
              "    .dataframe tbody tr th:only-of-type {\n",
              "        vertical-align: middle;\n",
              "    }\n",
              "\n",
              "    .dataframe tbody tr th {\n",
              "        vertical-align: top;\n",
              "    }\n",
              "\n",
              "    .dataframe thead th {\n",
              "        text-align: right;\n",
              "    }\n",
              "</style>\n",
              "<table border=\"1\" class=\"dataframe\">\n",
              "  <thead>\n",
              "    <tr style=\"text-align: right;\">\n",
              "      <th></th>\n",
              "      <th>order_id</th>\n",
              "      <th>order_date</th>\n",
              "      <th>ship_date</th>\n",
              "      <th>ship_mode</th>\n",
              "      <th>customer_name</th>\n",
              "      <th>segment</th>\n",
              "      <th>state</th>\n",
              "      <th>country</th>\n",
              "      <th>market</th>\n",
              "      <th>region</th>\n",
              "      <th>...</th>\n",
              "      <th>category</th>\n",
              "      <th>sub_category</th>\n",
              "      <th>product_name</th>\n",
              "      <th>sales</th>\n",
              "      <th>quantity</th>\n",
              "      <th>discount</th>\n",
              "      <th>profit</th>\n",
              "      <th>shipping_cost</th>\n",
              "      <th>order_priority</th>\n",
              "      <th>year</th>\n",
              "    </tr>\n",
              "  </thead>\n",
              "  <tbody>\n",
              "    <tr>\n",
              "      <th>0</th>\n",
              "      <td>AG-2011-2040</td>\n",
              "      <td>01-01-2011</td>\n",
              "      <td>06-01-2011</td>\n",
              "      <td>Standard Class</td>\n",
              "      <td>Toby Braunhardt</td>\n",
              "      <td>Consumer</td>\n",
              "      <td>Constantine</td>\n",
              "      <td>Algeria</td>\n",
              "      <td>Africa</td>\n",
              "      <td>Africa</td>\n",
              "      <td>...</td>\n",
              "      <td>Office Supplies</td>\n",
              "      <td>Storage</td>\n",
              "      <td>Tenex Lockers, Blue</td>\n",
              "      <td>408</td>\n",
              "      <td>2</td>\n",
              "      <td>0.0</td>\n",
              "      <td>106.140</td>\n",
              "      <td>35.46</td>\n",
              "      <td>Medium</td>\n",
              "      <td>2011</td>\n",
              "    </tr>\n",
              "    <tr>\n",
              "      <th>1</th>\n",
              "      <td>IN-2011-47883</td>\n",
              "      <td>01-01-2011</td>\n",
              "      <td>08-01-2011</td>\n",
              "      <td>Standard Class</td>\n",
              "      <td>Joseph Holt</td>\n",
              "      <td>Consumer</td>\n",
              "      <td>New South Wales</td>\n",
              "      <td>Australia</td>\n",
              "      <td>APAC</td>\n",
              "      <td>Oceania</td>\n",
              "      <td>...</td>\n",
              "      <td>Office Supplies</td>\n",
              "      <td>Supplies</td>\n",
              "      <td>Acme Trimmer, High Speed</td>\n",
              "      <td>120</td>\n",
              "      <td>3</td>\n",
              "      <td>0.1</td>\n",
              "      <td>36.036</td>\n",
              "      <td>9.72</td>\n",
              "      <td>Medium</td>\n",
              "      <td>2011</td>\n",
              "    </tr>\n",
              "    <tr>\n",
              "      <th>2</th>\n",
              "      <td>HU-2011-1220</td>\n",
              "      <td>01-01-2011</td>\n",
              "      <td>05-01-2011</td>\n",
              "      <td>Second Class</td>\n",
              "      <td>Annie Thurman</td>\n",
              "      <td>Consumer</td>\n",
              "      <td>Budapest</td>\n",
              "      <td>Hungary</td>\n",
              "      <td>EMEA</td>\n",
              "      <td>EMEA</td>\n",
              "      <td>...</td>\n",
              "      <td>Office Supplies</td>\n",
              "      <td>Storage</td>\n",
              "      <td>Tenex Box, Single Width</td>\n",
              "      <td>66</td>\n",
              "      <td>4</td>\n",
              "      <td>0.0</td>\n",
              "      <td>29.640</td>\n",
              "      <td>8.17</td>\n",
              "      <td>High</td>\n",
              "      <td>2011</td>\n",
              "    </tr>\n",
              "    <tr>\n",
              "      <th>3</th>\n",
              "      <td>IT-2011-3647632</td>\n",
              "      <td>01-01-2011</td>\n",
              "      <td>05-01-2011</td>\n",
              "      <td>Second Class</td>\n",
              "      <td>Eugene Moren</td>\n",
              "      <td>Home Office</td>\n",
              "      <td>Stockholm</td>\n",
              "      <td>Sweden</td>\n",
              "      <td>EU</td>\n",
              "      <td>North</td>\n",
              "      <td>...</td>\n",
              "      <td>Office Supplies</td>\n",
              "      <td>Paper</td>\n",
              "      <td>Enermax Note Cards, Premium</td>\n",
              "      <td>45</td>\n",
              "      <td>3</td>\n",
              "      <td>0.5</td>\n",
              "      <td>-26.055</td>\n",
              "      <td>4.82</td>\n",
              "      <td>High</td>\n",
              "      <td>2011</td>\n",
              "    </tr>\n",
              "    <tr>\n",
              "      <th>4</th>\n",
              "      <td>IN-2011-47883</td>\n",
              "      <td>01-01-2011</td>\n",
              "      <td>08-01-2011</td>\n",
              "      <td>Standard Class</td>\n",
              "      <td>Joseph Holt</td>\n",
              "      <td>Consumer</td>\n",
              "      <td>New South Wales</td>\n",
              "      <td>Australia</td>\n",
              "      <td>APAC</td>\n",
              "      <td>Oceania</td>\n",
              "      <td>...</td>\n",
              "      <td>Furniture</td>\n",
              "      <td>Furnishings</td>\n",
              "      <td>Eldon Light Bulb, Duo Pack</td>\n",
              "      <td>114</td>\n",
              "      <td>5</td>\n",
              "      <td>0.1</td>\n",
              "      <td>37.770</td>\n",
              "      <td>4.70</td>\n",
              "      <td>Medium</td>\n",
              "      <td>2011</td>\n",
              "    </tr>\n",
              "  </tbody>\n",
              "</table>\n",
              "<p>5 rows × 21 columns</p>\n",
              "</div>\n",
              "      <button class=\"colab-df-convert\" onclick=\"convertToInteractive('df-fbf01826-3cbe-48d4-9e68-79b3ef9f3960')\"\n",
              "              title=\"Convert this dataframe to an interactive table.\"\n",
              "              style=\"display:none;\">\n",
              "        \n",
              "  <svg xmlns=\"http://www.w3.org/2000/svg\" height=\"24px\"viewBox=\"0 0 24 24\"\n",
              "       width=\"24px\">\n",
              "    <path d=\"M0 0h24v24H0V0z\" fill=\"none\"/>\n",
              "    <path d=\"M18.56 5.44l.94 2.06.94-2.06 2.06-.94-2.06-.94-.94-2.06-.94 2.06-2.06.94zm-11 1L8.5 8.5l.94-2.06 2.06-.94-2.06-.94L8.5 2.5l-.94 2.06-2.06.94zm10 10l.94 2.06.94-2.06 2.06-.94-2.06-.94-.94-2.06-.94 2.06-2.06.94z\"/><path d=\"M17.41 7.96l-1.37-1.37c-.4-.4-.92-.59-1.43-.59-.52 0-1.04.2-1.43.59L10.3 9.45l-7.72 7.72c-.78.78-.78 2.05 0 2.83L4 21.41c.39.39.9.59 1.41.59.51 0 1.02-.2 1.41-.59l7.78-7.78 2.81-2.81c.8-.78.8-2.07 0-2.86zM5.41 20L4 18.59l7.72-7.72 1.47 1.35L5.41 20z\"/>\n",
              "  </svg>\n",
              "      </button>\n",
              "      \n",
              "  <style>\n",
              "    .colab-df-container {\n",
              "      display:flex;\n",
              "      flex-wrap:wrap;\n",
              "      gap: 12px;\n",
              "    }\n",
              "\n",
              "    .colab-df-convert {\n",
              "      background-color: #E8F0FE;\n",
              "      border: none;\n",
              "      border-radius: 50%;\n",
              "      cursor: pointer;\n",
              "      display: none;\n",
              "      fill: #1967D2;\n",
              "      height: 32px;\n",
              "      padding: 0 0 0 0;\n",
              "      width: 32px;\n",
              "    }\n",
              "\n",
              "    .colab-df-convert:hover {\n",
              "      background-color: #E2EBFA;\n",
              "      box-shadow: 0px 1px 2px rgba(60, 64, 67, 0.3), 0px 1px 3px 1px rgba(60, 64, 67, 0.15);\n",
              "      fill: #174EA6;\n",
              "    }\n",
              "\n",
              "    [theme=dark] .colab-df-convert {\n",
              "      background-color: #3B4455;\n",
              "      fill: #D2E3FC;\n",
              "    }\n",
              "\n",
              "    [theme=dark] .colab-df-convert:hover {\n",
              "      background-color: #434B5C;\n",
              "      box-shadow: 0px 1px 3px 1px rgba(0, 0, 0, 0.15);\n",
              "      filter: drop-shadow(0px 1px 2px rgba(0, 0, 0, 0.3));\n",
              "      fill: #FFFFFF;\n",
              "    }\n",
              "  </style>\n",
              "\n",
              "      <script>\n",
              "        const buttonEl =\n",
              "          document.querySelector('#df-fbf01826-3cbe-48d4-9e68-79b3ef9f3960 button.colab-df-convert');\n",
              "        buttonEl.style.display =\n",
              "          google.colab.kernel.accessAllowed ? 'block' : 'none';\n",
              "\n",
              "        async function convertToInteractive(key) {\n",
              "          const element = document.querySelector('#df-fbf01826-3cbe-48d4-9e68-79b3ef9f3960');\n",
              "          const dataTable =\n",
              "            await google.colab.kernel.invokeFunction('convertToInteractive',\n",
              "                                                     [key], {});\n",
              "          if (!dataTable) return;\n",
              "\n",
              "          const docLinkHtml = 'Like what you see? Visit the ' +\n",
              "            '<a target=\"_blank\" href=https://colab.research.google.com/notebooks/data_table.ipynb>data table notebook</a>'\n",
              "            + ' to learn more about interactive tables.';\n",
              "          element.innerHTML = '';\n",
              "          dataTable['output_type'] = 'display_data';\n",
              "          await google.colab.output.renderOutput(dataTable, element);\n",
              "          const docLink = document.createElement('div');\n",
              "          docLink.innerHTML = docLinkHtml;\n",
              "          element.appendChild(docLink);\n",
              "        }\n",
              "      </script>\n",
              "    </div>\n",
              "  </div>\n",
              "  "
            ]
          },
          "metadata": {},
          "execution_count": 179
        }
      ],
      "source": [
        "df.head(5)"
      ]
    },
    {
      "cell_type": "markdown",
      "metadata": {
        "id": "FVFHDD4-lAtC"
      },
      "source": [
        "To find the bottom 5 rows\n"
      ]
    },
    {
      "cell_type": "code",
      "execution_count": null,
      "metadata": {
        "colab": {
          "base_uri": "https://localhost:8080/",
          "height": 418
        },
        "id": "8QVTYZFZp9dV",
        "outputId": "95835c81-8a82-4635-e39e-b55a1b582c23"
      },
      "outputs": [
        {
          "output_type": "execute_result",
          "data": {
            "text/plain": [
              "             order_id  order_date   ship_date       ship_mode  \\\n",
              "51285  CA-2014-115427  31-12-2014  04-01-2015  Standard Class   \n",
              "51286    MO-2014-2560  31-12-2014  05-01-2015  Standard Class   \n",
              "51287  MX-2014-110527  31-12-2014  02-01-2015    Second Class   \n",
              "51288  MX-2014-114783  31-12-2014  06-01-2015  Standard Class   \n",
              "51289  CA-2014-156720  31-12-2014  04-01-2015  Standard Class   \n",
              "\n",
              "          customer_name    segment             state        country  market  \\\n",
              "51285        Erica Bern  Corporate        California  United States      US   \n",
              "51286         Liz Preis   Consumer  Souss-Massa-Draâ        Morocco  Africa   \n",
              "51287  Charlotte Melton   Consumer           Managua      Nicaragua   LATAM   \n",
              "51288     Tamara Dahlen   Consumer         Chihuahua         Mexico   LATAM   \n",
              "51289     Jill Matthias   Consumer          Colorado  United States      US   \n",
              "\n",
              "        region  ...         category sub_category  \\\n",
              "51285     West  ...  Office Supplies      Binders   \n",
              "51286   Africa  ...  Office Supplies      Binders   \n",
              "51287  Central  ...  Office Supplies       Labels   \n",
              "51288    North  ...  Office Supplies       Labels   \n",
              "51289     West  ...  Office Supplies    Fasteners   \n",
              "\n",
              "                                          product_name sales quantity  \\\n",
              "51285  Cardinal Slant-D Ring Binder, Heavy Gauge Vinyl    14        2   \n",
              "51286          Wilson Jones Hole Reinforcements, Clear     4        1   \n",
              "51287           Hon Color Coded Labels, 5000 Label Set    26        3   \n",
              "51288           Hon Legal Exhibit Labels, Alphabetical     7        1   \n",
              "51289                              Bagged Rubber Bands     3        3   \n",
              "\n",
              "       discount   profit  shipping_cost  order_priority  year  \n",
              "51285       0.2   4.5188           0.89          Medium  2014  \n",
              "51286       0.0   0.4200           0.49          Medium  2014  \n",
              "51287       0.0  12.3600           0.35          Medium  2014  \n",
              "51288       0.0   0.5600           0.20          Medium  2014  \n",
              "51289       0.2  -0.6048           0.17          Medium  2014  \n",
              "\n",
              "[5 rows x 21 columns]"
            ],
            "text/html": [
              "\n",
              "  <div id=\"df-b053b6b6-3774-45cc-998b-9e91a1539325\">\n",
              "    <div class=\"colab-df-container\">\n",
              "      <div>\n",
              "<style scoped>\n",
              "    .dataframe tbody tr th:only-of-type {\n",
              "        vertical-align: middle;\n",
              "    }\n",
              "\n",
              "    .dataframe tbody tr th {\n",
              "        vertical-align: top;\n",
              "    }\n",
              "\n",
              "    .dataframe thead th {\n",
              "        text-align: right;\n",
              "    }\n",
              "</style>\n",
              "<table border=\"1\" class=\"dataframe\">\n",
              "  <thead>\n",
              "    <tr style=\"text-align: right;\">\n",
              "      <th></th>\n",
              "      <th>order_id</th>\n",
              "      <th>order_date</th>\n",
              "      <th>ship_date</th>\n",
              "      <th>ship_mode</th>\n",
              "      <th>customer_name</th>\n",
              "      <th>segment</th>\n",
              "      <th>state</th>\n",
              "      <th>country</th>\n",
              "      <th>market</th>\n",
              "      <th>region</th>\n",
              "      <th>...</th>\n",
              "      <th>category</th>\n",
              "      <th>sub_category</th>\n",
              "      <th>product_name</th>\n",
              "      <th>sales</th>\n",
              "      <th>quantity</th>\n",
              "      <th>discount</th>\n",
              "      <th>profit</th>\n",
              "      <th>shipping_cost</th>\n",
              "      <th>order_priority</th>\n",
              "      <th>year</th>\n",
              "    </tr>\n",
              "  </thead>\n",
              "  <tbody>\n",
              "    <tr>\n",
              "      <th>51285</th>\n",
              "      <td>CA-2014-115427</td>\n",
              "      <td>31-12-2014</td>\n",
              "      <td>04-01-2015</td>\n",
              "      <td>Standard Class</td>\n",
              "      <td>Erica Bern</td>\n",
              "      <td>Corporate</td>\n",
              "      <td>California</td>\n",
              "      <td>United States</td>\n",
              "      <td>US</td>\n",
              "      <td>West</td>\n",
              "      <td>...</td>\n",
              "      <td>Office Supplies</td>\n",
              "      <td>Binders</td>\n",
              "      <td>Cardinal Slant-D Ring Binder, Heavy Gauge Vinyl</td>\n",
              "      <td>14</td>\n",
              "      <td>2</td>\n",
              "      <td>0.2</td>\n",
              "      <td>4.5188</td>\n",
              "      <td>0.89</td>\n",
              "      <td>Medium</td>\n",
              "      <td>2014</td>\n",
              "    </tr>\n",
              "    <tr>\n",
              "      <th>51286</th>\n",
              "      <td>MO-2014-2560</td>\n",
              "      <td>31-12-2014</td>\n",
              "      <td>05-01-2015</td>\n",
              "      <td>Standard Class</td>\n",
              "      <td>Liz Preis</td>\n",
              "      <td>Consumer</td>\n",
              "      <td>Souss-Massa-Draâ</td>\n",
              "      <td>Morocco</td>\n",
              "      <td>Africa</td>\n",
              "      <td>Africa</td>\n",
              "      <td>...</td>\n",
              "      <td>Office Supplies</td>\n",
              "      <td>Binders</td>\n",
              "      <td>Wilson Jones Hole Reinforcements, Clear</td>\n",
              "      <td>4</td>\n",
              "      <td>1</td>\n",
              "      <td>0.0</td>\n",
              "      <td>0.4200</td>\n",
              "      <td>0.49</td>\n",
              "      <td>Medium</td>\n",
              "      <td>2014</td>\n",
              "    </tr>\n",
              "    <tr>\n",
              "      <th>51287</th>\n",
              "      <td>MX-2014-110527</td>\n",
              "      <td>31-12-2014</td>\n",
              "      <td>02-01-2015</td>\n",
              "      <td>Second Class</td>\n",
              "      <td>Charlotte Melton</td>\n",
              "      <td>Consumer</td>\n",
              "      <td>Managua</td>\n",
              "      <td>Nicaragua</td>\n",
              "      <td>LATAM</td>\n",
              "      <td>Central</td>\n",
              "      <td>...</td>\n",
              "      <td>Office Supplies</td>\n",
              "      <td>Labels</td>\n",
              "      <td>Hon Color Coded Labels, 5000 Label Set</td>\n",
              "      <td>26</td>\n",
              "      <td>3</td>\n",
              "      <td>0.0</td>\n",
              "      <td>12.3600</td>\n",
              "      <td>0.35</td>\n",
              "      <td>Medium</td>\n",
              "      <td>2014</td>\n",
              "    </tr>\n",
              "    <tr>\n",
              "      <th>51288</th>\n",
              "      <td>MX-2014-114783</td>\n",
              "      <td>31-12-2014</td>\n",
              "      <td>06-01-2015</td>\n",
              "      <td>Standard Class</td>\n",
              "      <td>Tamara Dahlen</td>\n",
              "      <td>Consumer</td>\n",
              "      <td>Chihuahua</td>\n",
              "      <td>Mexico</td>\n",
              "      <td>LATAM</td>\n",
              "      <td>North</td>\n",
              "      <td>...</td>\n",
              "      <td>Office Supplies</td>\n",
              "      <td>Labels</td>\n",
              "      <td>Hon Legal Exhibit Labels, Alphabetical</td>\n",
              "      <td>7</td>\n",
              "      <td>1</td>\n",
              "      <td>0.0</td>\n",
              "      <td>0.5600</td>\n",
              "      <td>0.20</td>\n",
              "      <td>Medium</td>\n",
              "      <td>2014</td>\n",
              "    </tr>\n",
              "    <tr>\n",
              "      <th>51289</th>\n",
              "      <td>CA-2014-156720</td>\n",
              "      <td>31-12-2014</td>\n",
              "      <td>04-01-2015</td>\n",
              "      <td>Standard Class</td>\n",
              "      <td>Jill Matthias</td>\n",
              "      <td>Consumer</td>\n",
              "      <td>Colorado</td>\n",
              "      <td>United States</td>\n",
              "      <td>US</td>\n",
              "      <td>West</td>\n",
              "      <td>...</td>\n",
              "      <td>Office Supplies</td>\n",
              "      <td>Fasteners</td>\n",
              "      <td>Bagged Rubber Bands</td>\n",
              "      <td>3</td>\n",
              "      <td>3</td>\n",
              "      <td>0.2</td>\n",
              "      <td>-0.6048</td>\n",
              "      <td>0.17</td>\n",
              "      <td>Medium</td>\n",
              "      <td>2014</td>\n",
              "    </tr>\n",
              "  </tbody>\n",
              "</table>\n",
              "<p>5 rows × 21 columns</p>\n",
              "</div>\n",
              "      <button class=\"colab-df-convert\" onclick=\"convertToInteractive('df-b053b6b6-3774-45cc-998b-9e91a1539325')\"\n",
              "              title=\"Convert this dataframe to an interactive table.\"\n",
              "              style=\"display:none;\">\n",
              "        \n",
              "  <svg xmlns=\"http://www.w3.org/2000/svg\" height=\"24px\"viewBox=\"0 0 24 24\"\n",
              "       width=\"24px\">\n",
              "    <path d=\"M0 0h24v24H0V0z\" fill=\"none\"/>\n",
              "    <path d=\"M18.56 5.44l.94 2.06.94-2.06 2.06-.94-2.06-.94-.94-2.06-.94 2.06-2.06.94zm-11 1L8.5 8.5l.94-2.06 2.06-.94-2.06-.94L8.5 2.5l-.94 2.06-2.06.94zm10 10l.94 2.06.94-2.06 2.06-.94-2.06-.94-.94-2.06-.94 2.06-2.06.94z\"/><path d=\"M17.41 7.96l-1.37-1.37c-.4-.4-.92-.59-1.43-.59-.52 0-1.04.2-1.43.59L10.3 9.45l-7.72 7.72c-.78.78-.78 2.05 0 2.83L4 21.41c.39.39.9.59 1.41.59.51 0 1.02-.2 1.41-.59l7.78-7.78 2.81-2.81c.8-.78.8-2.07 0-2.86zM5.41 20L4 18.59l7.72-7.72 1.47 1.35L5.41 20z\"/>\n",
              "  </svg>\n",
              "      </button>\n",
              "      \n",
              "  <style>\n",
              "    .colab-df-container {\n",
              "      display:flex;\n",
              "      flex-wrap:wrap;\n",
              "      gap: 12px;\n",
              "    }\n",
              "\n",
              "    .colab-df-convert {\n",
              "      background-color: #E8F0FE;\n",
              "      border: none;\n",
              "      border-radius: 50%;\n",
              "      cursor: pointer;\n",
              "      display: none;\n",
              "      fill: #1967D2;\n",
              "      height: 32px;\n",
              "      padding: 0 0 0 0;\n",
              "      width: 32px;\n",
              "    }\n",
              "\n",
              "    .colab-df-convert:hover {\n",
              "      background-color: #E2EBFA;\n",
              "      box-shadow: 0px 1px 2px rgba(60, 64, 67, 0.3), 0px 1px 3px 1px rgba(60, 64, 67, 0.15);\n",
              "      fill: #174EA6;\n",
              "    }\n",
              "\n",
              "    [theme=dark] .colab-df-convert {\n",
              "      background-color: #3B4455;\n",
              "      fill: #D2E3FC;\n",
              "    }\n",
              "\n",
              "    [theme=dark] .colab-df-convert:hover {\n",
              "      background-color: #434B5C;\n",
              "      box-shadow: 0px 1px 3px 1px rgba(0, 0, 0, 0.15);\n",
              "      filter: drop-shadow(0px 1px 2px rgba(0, 0, 0, 0.3));\n",
              "      fill: #FFFFFF;\n",
              "    }\n",
              "  </style>\n",
              "\n",
              "      <script>\n",
              "        const buttonEl =\n",
              "          document.querySelector('#df-b053b6b6-3774-45cc-998b-9e91a1539325 button.colab-df-convert');\n",
              "        buttonEl.style.display =\n",
              "          google.colab.kernel.accessAllowed ? 'block' : 'none';\n",
              "\n",
              "        async function convertToInteractive(key) {\n",
              "          const element = document.querySelector('#df-b053b6b6-3774-45cc-998b-9e91a1539325');\n",
              "          const dataTable =\n",
              "            await google.colab.kernel.invokeFunction('convertToInteractive',\n",
              "                                                     [key], {});\n",
              "          if (!dataTable) return;\n",
              "\n",
              "          const docLinkHtml = 'Like what you see? Visit the ' +\n",
              "            '<a target=\"_blank\" href=https://colab.research.google.com/notebooks/data_table.ipynb>data table notebook</a>'\n",
              "            + ' to learn more about interactive tables.';\n",
              "          element.innerHTML = '';\n",
              "          dataTable['output_type'] = 'display_data';\n",
              "          await google.colab.output.renderOutput(dataTable, element);\n",
              "          const docLink = document.createElement('div');\n",
              "          docLink.innerHTML = docLinkHtml;\n",
              "          element.appendChild(docLink);\n",
              "        }\n",
              "      </script>\n",
              "    </div>\n",
              "  </div>\n",
              "  "
            ]
          },
          "metadata": {},
          "execution_count": 180
        }
      ],
      "source": [
        "df.tail(5)"
      ]
    },
    {
      "cell_type": "code",
      "execution_count": null,
      "metadata": {
        "colab": {
          "base_uri": "https://localhost:8080/",
          "height": 300
        },
        "id": "XImw_70xqDJ4",
        "outputId": "8a764045-4c9b-4167-8208-1e1f73b8591e"
      },
      "outputs": [
        {
          "output_type": "execute_result",
          "data": {
            "text/plain": [
              "           quantity      discount        profit  shipping_cost          year\n",
              "count  51290.000000  51290.000000  51290.000000   51290.000000  51290.000000\n",
              "mean       3.476545      0.142908     28.641740      26.375915   2012.777208\n",
              "std        2.278766      0.212280    174.424113      57.296804      1.098931\n",
              "min        1.000000      0.000000  -6599.978000       0.000000   2011.000000\n",
              "25%        2.000000      0.000000      0.000000       2.610000   2012.000000\n",
              "50%        3.000000      0.000000      9.240000       7.790000   2013.000000\n",
              "75%        5.000000      0.200000     36.810000      24.450000   2014.000000\n",
              "max       14.000000      0.850000   8399.976000     933.570000   2014.000000"
            ],
            "text/html": [
              "\n",
              "  <div id=\"df-c9326558-97f3-4b39-a52a-680cd9bca49b\">\n",
              "    <div class=\"colab-df-container\">\n",
              "      <div>\n",
              "<style scoped>\n",
              "    .dataframe tbody tr th:only-of-type {\n",
              "        vertical-align: middle;\n",
              "    }\n",
              "\n",
              "    .dataframe tbody tr th {\n",
              "        vertical-align: top;\n",
              "    }\n",
              "\n",
              "    .dataframe thead th {\n",
              "        text-align: right;\n",
              "    }\n",
              "</style>\n",
              "<table border=\"1\" class=\"dataframe\">\n",
              "  <thead>\n",
              "    <tr style=\"text-align: right;\">\n",
              "      <th></th>\n",
              "      <th>quantity</th>\n",
              "      <th>discount</th>\n",
              "      <th>profit</th>\n",
              "      <th>shipping_cost</th>\n",
              "      <th>year</th>\n",
              "    </tr>\n",
              "  </thead>\n",
              "  <tbody>\n",
              "    <tr>\n",
              "      <th>count</th>\n",
              "      <td>51290.000000</td>\n",
              "      <td>51290.000000</td>\n",
              "      <td>51290.000000</td>\n",
              "      <td>51290.000000</td>\n",
              "      <td>51290.000000</td>\n",
              "    </tr>\n",
              "    <tr>\n",
              "      <th>mean</th>\n",
              "      <td>3.476545</td>\n",
              "      <td>0.142908</td>\n",
              "      <td>28.641740</td>\n",
              "      <td>26.375915</td>\n",
              "      <td>2012.777208</td>\n",
              "    </tr>\n",
              "    <tr>\n",
              "      <th>std</th>\n",
              "      <td>2.278766</td>\n",
              "      <td>0.212280</td>\n",
              "      <td>174.424113</td>\n",
              "      <td>57.296804</td>\n",
              "      <td>1.098931</td>\n",
              "    </tr>\n",
              "    <tr>\n",
              "      <th>min</th>\n",
              "      <td>1.000000</td>\n",
              "      <td>0.000000</td>\n",
              "      <td>-6599.978000</td>\n",
              "      <td>0.000000</td>\n",
              "      <td>2011.000000</td>\n",
              "    </tr>\n",
              "    <tr>\n",
              "      <th>25%</th>\n",
              "      <td>2.000000</td>\n",
              "      <td>0.000000</td>\n",
              "      <td>0.000000</td>\n",
              "      <td>2.610000</td>\n",
              "      <td>2012.000000</td>\n",
              "    </tr>\n",
              "    <tr>\n",
              "      <th>50%</th>\n",
              "      <td>3.000000</td>\n",
              "      <td>0.000000</td>\n",
              "      <td>9.240000</td>\n",
              "      <td>7.790000</td>\n",
              "      <td>2013.000000</td>\n",
              "    </tr>\n",
              "    <tr>\n",
              "      <th>75%</th>\n",
              "      <td>5.000000</td>\n",
              "      <td>0.200000</td>\n",
              "      <td>36.810000</td>\n",
              "      <td>24.450000</td>\n",
              "      <td>2014.000000</td>\n",
              "    </tr>\n",
              "    <tr>\n",
              "      <th>max</th>\n",
              "      <td>14.000000</td>\n",
              "      <td>0.850000</td>\n",
              "      <td>8399.976000</td>\n",
              "      <td>933.570000</td>\n",
              "      <td>2014.000000</td>\n",
              "    </tr>\n",
              "  </tbody>\n",
              "</table>\n",
              "</div>\n",
              "      <button class=\"colab-df-convert\" onclick=\"convertToInteractive('df-c9326558-97f3-4b39-a52a-680cd9bca49b')\"\n",
              "              title=\"Convert this dataframe to an interactive table.\"\n",
              "              style=\"display:none;\">\n",
              "        \n",
              "  <svg xmlns=\"http://www.w3.org/2000/svg\" height=\"24px\"viewBox=\"0 0 24 24\"\n",
              "       width=\"24px\">\n",
              "    <path d=\"M0 0h24v24H0V0z\" fill=\"none\"/>\n",
              "    <path d=\"M18.56 5.44l.94 2.06.94-2.06 2.06-.94-2.06-.94-.94-2.06-.94 2.06-2.06.94zm-11 1L8.5 8.5l.94-2.06 2.06-.94-2.06-.94L8.5 2.5l-.94 2.06-2.06.94zm10 10l.94 2.06.94-2.06 2.06-.94-2.06-.94-.94-2.06-.94 2.06-2.06.94z\"/><path d=\"M17.41 7.96l-1.37-1.37c-.4-.4-.92-.59-1.43-.59-.52 0-1.04.2-1.43.59L10.3 9.45l-7.72 7.72c-.78.78-.78 2.05 0 2.83L4 21.41c.39.39.9.59 1.41.59.51 0 1.02-.2 1.41-.59l7.78-7.78 2.81-2.81c.8-.78.8-2.07 0-2.86zM5.41 20L4 18.59l7.72-7.72 1.47 1.35L5.41 20z\"/>\n",
              "  </svg>\n",
              "      </button>\n",
              "      \n",
              "  <style>\n",
              "    .colab-df-container {\n",
              "      display:flex;\n",
              "      flex-wrap:wrap;\n",
              "      gap: 12px;\n",
              "    }\n",
              "\n",
              "    .colab-df-convert {\n",
              "      background-color: #E8F0FE;\n",
              "      border: none;\n",
              "      border-radius: 50%;\n",
              "      cursor: pointer;\n",
              "      display: none;\n",
              "      fill: #1967D2;\n",
              "      height: 32px;\n",
              "      padding: 0 0 0 0;\n",
              "      width: 32px;\n",
              "    }\n",
              "\n",
              "    .colab-df-convert:hover {\n",
              "      background-color: #E2EBFA;\n",
              "      box-shadow: 0px 1px 2px rgba(60, 64, 67, 0.3), 0px 1px 3px 1px rgba(60, 64, 67, 0.15);\n",
              "      fill: #174EA6;\n",
              "    }\n",
              "\n",
              "    [theme=dark] .colab-df-convert {\n",
              "      background-color: #3B4455;\n",
              "      fill: #D2E3FC;\n",
              "    }\n",
              "\n",
              "    [theme=dark] .colab-df-convert:hover {\n",
              "      background-color: #434B5C;\n",
              "      box-shadow: 0px 1px 3px 1px rgba(0, 0, 0, 0.15);\n",
              "      filter: drop-shadow(0px 1px 2px rgba(0, 0, 0, 0.3));\n",
              "      fill: #FFFFFF;\n",
              "    }\n",
              "  </style>\n",
              "\n",
              "      <script>\n",
              "        const buttonEl =\n",
              "          document.querySelector('#df-c9326558-97f3-4b39-a52a-680cd9bca49b button.colab-df-convert');\n",
              "        buttonEl.style.display =\n",
              "          google.colab.kernel.accessAllowed ? 'block' : 'none';\n",
              "\n",
              "        async function convertToInteractive(key) {\n",
              "          const element = document.querySelector('#df-c9326558-97f3-4b39-a52a-680cd9bca49b');\n",
              "          const dataTable =\n",
              "            await google.colab.kernel.invokeFunction('convertToInteractive',\n",
              "                                                     [key], {});\n",
              "          if (!dataTable) return;\n",
              "\n",
              "          const docLinkHtml = 'Like what you see? Visit the ' +\n",
              "            '<a target=\"_blank\" href=https://colab.research.google.com/notebooks/data_table.ipynb>data table notebook</a>'\n",
              "            + ' to learn more about interactive tables.';\n",
              "          element.innerHTML = '';\n",
              "          dataTable['output_type'] = 'display_data';\n",
              "          await google.colab.output.renderOutput(dataTable, element);\n",
              "          const docLink = document.createElement('div');\n",
              "          docLink.innerHTML = docLinkHtml;\n",
              "          element.appendChild(docLink);\n",
              "        }\n",
              "      </script>\n",
              "    </div>\n",
              "  </div>\n",
              "  "
            ]
          },
          "metadata": {},
          "execution_count": 181
        }
      ],
      "source": [
        "df.describe()"
      ]
    },
    {
      "cell_type": "code",
      "source": [
        "any(df.duplicated())"
      ],
      "metadata": {
        "colab": {
          "base_uri": "https://localhost:8080/"
        },
        "id": "uxQajz-FHt0l",
        "outputId": "a712df1d-99ab-4274-f081-29f20e6e5f87"
      },
      "execution_count": null,
      "outputs": [
        {
          "output_type": "execute_result",
          "data": {
            "text/plain": [
              "False"
            ]
          },
          "metadata": {},
          "execution_count": 182
        }
      ]
    },
    {
      "cell_type": "markdown",
      "metadata": {
        "id": "DOFrRLBelcNM"
      },
      "source": [
        "To determine rows and columns."
      ]
    },
    {
      "cell_type": "code",
      "execution_count": null,
      "metadata": {
        "colab": {
          "base_uri": "https://localhost:8080/"
        },
        "id": "aFuPcoWfb90K",
        "outputId": "d169036e-b402-418c-a1ec-5ba18c29e58d"
      },
      "outputs": [
        {
          "output_type": "execute_result",
          "data": {
            "text/plain": [
              "(51290, 21)"
            ]
          },
          "metadata": {},
          "execution_count": 183
        }
      ],
      "source": [
        "df.shape"
      ]
    },
    {
      "cell_type": "code",
      "execution_count": null,
      "metadata": {
        "colab": {
          "base_uri": "https://localhost:8080/"
        },
        "id": "l2SQ8gE0qnV4",
        "outputId": "b01ad010-701e-4531-f58a-01f4d5b7ad39"
      },
      "outputs": [
        {
          "output_type": "stream",
          "name": "stdout",
          "text": [
            "<class 'pandas.core.frame.DataFrame'>\n",
            "RangeIndex: 51290 entries, 0 to 51289\n",
            "Data columns (total 21 columns):\n",
            " #   Column          Non-Null Count  Dtype  \n",
            "---  ------          --------------  -----  \n",
            " 0   order_id        51290 non-null  object \n",
            " 1   order_date      51290 non-null  object \n",
            " 2   ship_date       51290 non-null  object \n",
            " 3   ship_mode       51290 non-null  object \n",
            " 4   customer_name   51290 non-null  object \n",
            " 5   segment         51290 non-null  object \n",
            " 6   state           51290 non-null  object \n",
            " 7   country         51290 non-null  object \n",
            " 8   market          51290 non-null  object \n",
            " 9   region          51290 non-null  object \n",
            " 10  product_id      51290 non-null  object \n",
            " 11  category        51290 non-null  object \n",
            " 12  sub_category    51290 non-null  object \n",
            " 13  product_name    51290 non-null  object \n",
            " 14  sales           51290 non-null  object \n",
            " 15  quantity        51290 non-null  int64  \n",
            " 16  discount        51290 non-null  float64\n",
            " 17  profit          51290 non-null  float64\n",
            " 18  shipping_cost   51290 non-null  float64\n",
            " 19  order_priority  51290 non-null  object \n",
            " 20  year            51290 non-null  int64  \n",
            "dtypes: float64(3), int64(2), object(16)\n",
            "memory usage: 8.2+ MB\n"
          ]
        }
      ],
      "source": [
        "df.info()"
      ]
    },
    {
      "cell_type": "markdown",
      "metadata": {
        "id": "R8NBd42O41a9"
      },
      "source": [
        "Changing the non numeric values of sales in the original dataset to numerical values"
      ]
    },
    {
      "cell_type": "code",
      "execution_count": null,
      "metadata": {
        "id": "N4_iYcIxR0Fc"
      },
      "outputs": [],
      "source": [
        "df['sales'] = pd.to_numeric(df['sales'], errors='coerce')"
      ]
    },
    {
      "cell_type": "markdown",
      "metadata": {
        "id": "obyz3oXS43zP"
      },
      "source": [
        "To find the null values in the data set."
      ]
    },
    {
      "cell_type": "code",
      "execution_count": null,
      "metadata": {
        "colab": {
          "base_uri": "https://localhost:8080/"
        },
        "id": "QF96SZxOqtmj",
        "outputId": "060b625f-044c-4657-fe74-33feaaf3c9c1"
      },
      "outputs": [
        {
          "output_type": "execute_result",
          "data": {
            "text/plain": [
              "order_id             0\n",
              "order_date           0\n",
              "ship_date            0\n",
              "ship_mode            0\n",
              "customer_name        0\n",
              "segment              0\n",
              "state                0\n",
              "country              0\n",
              "market               0\n",
              "region               0\n",
              "product_id           0\n",
              "category             0\n",
              "sub_category         0\n",
              "product_name         0\n",
              "sales             2630\n",
              "quantity             0\n",
              "discount             0\n",
              "profit               0\n",
              "shipping_cost        0\n",
              "order_priority       0\n",
              "year                 0\n",
              "dtype: int64"
            ]
          },
          "metadata": {},
          "execution_count": 186
        }
      ],
      "source": [
        "df.isnull().sum()"
      ]
    },
    {
      "cell_type": "markdown",
      "metadata": {
        "id": "d_0B3PNE4ZHq"
      },
      "source": [
        "To find unique values in the dataset."
      ]
    },
    {
      "cell_type": "code",
      "execution_count": null,
      "metadata": {
        "colab": {
          "base_uri": "https://localhost:8080/"
        },
        "id": "-MDJVc_8b5Ju",
        "outputId": "9c907bf1-1b03-4c61-e6a4-1a0ee8026fe0"
      },
      "outputs": [
        {
          "output_type": "execute_result",
          "data": {
            "text/plain": [
              "order_id          25035\n",
              "order_date         1430\n",
              "ship_date          1464\n",
              "ship_mode             4\n",
              "customer_name       795\n",
              "segment               3\n",
              "state              1094\n",
              "country             147\n",
              "market                7\n",
              "region               13\n",
              "product_id        10292\n",
              "category              3\n",
              "sub_category         17\n",
              "product_name       3788\n",
              "sales               993\n",
              "quantity             14\n",
              "discount             27\n",
              "profit            24575\n",
              "shipping_cost     10037\n",
              "order_priority        4\n",
              "year                  4\n",
              "dtype: int64"
            ]
          },
          "metadata": {},
          "execution_count": 187
        }
      ],
      "source": [
        "df.nunique()"
      ]
    },
    {
      "cell_type": "markdown",
      "metadata": {
        "id": "H67qfmgSLdBv"
      },
      "source": [
        "To understand the columns with less unique values"
      ]
    },
    {
      "cell_type": "code",
      "execution_count": null,
      "metadata": {
        "colab": {
          "base_uri": "https://localhost:8080/"
        },
        "id": "a32-wO03KiE_",
        "outputId": "43dc101b-de5c-4de4-8724-b2cc20f09115"
      },
      "outputs": [
        {
          "output_type": "stream",
          "name": "stdout",
          "text": [
            "['Standard Class' 'Second Class' 'Same Day' 'First Class']\n"
          ]
        }
      ],
      "source": [
        "print(df['ship_mode'].unique())"
      ]
    },
    {
      "cell_type": "code",
      "execution_count": null,
      "metadata": {
        "colab": {
          "base_uri": "https://localhost:8080/"
        },
        "id": "S06HgvQ3K8LD",
        "outputId": "36994807-ee6d-4d68-f690-55db291ab156"
      },
      "outputs": [
        {
          "output_type": "stream",
          "name": "stdout",
          "text": [
            "['Medium' 'High' 'Critical' 'Low']\n"
          ]
        }
      ],
      "source": [
        "print(df['order_priority'].unique())"
      ]
    },
    {
      "cell_type": "markdown",
      "metadata": {
        "id": "683AfkizLpeq"
      },
      "source": [
        "To drop the columns not required."
      ]
    },
    {
      "cell_type": "code",
      "execution_count": null,
      "metadata": {
        "id": "3WvaTE4Bf9Fo"
      },
      "outputs": [],
      "source": [
        "df=df.drop(['order_id','order_date','ship_date','product_id'],axis=1)"
      ]
    },
    {
      "cell_type": "markdown",
      "metadata": {
        "id": "ipudORD2LvMm"
      },
      "source": [
        "To finaaly get info about important columns"
      ]
    },
    {
      "cell_type": "code",
      "execution_count": null,
      "metadata": {
        "colab": {
          "base_uri": "https://localhost:8080/"
        },
        "id": "63lrOy_1KcN3",
        "outputId": "807072a0-37da-415f-add2-b01f2ad455e8"
      },
      "outputs": [
        {
          "output_type": "execute_result",
          "data": {
            "text/plain": [
              "ship_mode            0\n",
              "customer_name        0\n",
              "segment              0\n",
              "state                0\n",
              "country              0\n",
              "market               0\n",
              "region               0\n",
              "category             0\n",
              "sub_category         0\n",
              "product_name         0\n",
              "sales             2630\n",
              "quantity             0\n",
              "discount             0\n",
              "profit               0\n",
              "shipping_cost        0\n",
              "order_priority       0\n",
              "year                 0\n",
              "dtype: int64"
            ]
          },
          "metadata": {},
          "execution_count": 191
        }
      ],
      "source": [
        "df.isnull().sum()"
      ]
    },
    {
      "cell_type": "code",
      "execution_count": null,
      "metadata": {
        "colab": {
          "base_uri": "https://localhost:8080/"
        },
        "id": "FCfvpmqjLdQP",
        "outputId": "e8847c0a-0c19-480b-d895-74f690f5cc83"
      },
      "outputs": [
        {
          "output_type": "execute_result",
          "data": {
            "text/plain": [
              "(51290, 17)"
            ]
          },
          "metadata": {},
          "execution_count": 192
        }
      ],
      "source": [
        "df.shape"
      ]
    },
    {
      "cell_type": "markdown",
      "metadata": {
        "id": "WcB9YHXnL2gT"
      },
      "source": [
        "To try MICE imputation on the dataset for the null values."
      ]
    },
    {
      "cell_type": "code",
      "execution_count": null,
      "metadata": {
        "id": "EYKfn2TrP0Sh"
      },
      "outputs": [],
      "source": [
        "from sklearn.experimental import enable_iterative_imputer\n",
        "from sklearn.impute import IterativeImputer\n",
        "from sklearn import linear_model\n",
        "\n",
        "df_mice = df.filter(['sales','quantity','discount','profit']).copy()\n",
        "\n",
        "# Define MICE Imputer and fill missing values\n",
        "mice_imputer = IterativeImputer(estimator=linear_model.BayesianRidge(), n_nearest_features=None, imputation_order='ascending')\n",
        "\n",
        "df_mice_imputed = pd.DataFrame(mice_imputer.fit_transform(df_mice), columns=df_mice.columns)"
      ]
    },
    {
      "cell_type": "code",
      "execution_count": null,
      "metadata": {
        "colab": {
          "base_uri": "https://localhost:8080/"
        },
        "id": "FG_4qJbeQqHJ",
        "outputId": "a17abc54-97e4-4f84-9cd8-8a859a5c27b8"
      },
      "outputs": [
        {
          "output_type": "execute_result",
          "data": {
            "text/plain": [
              "sales       0\n",
              "quantity    0\n",
              "discount    0\n",
              "profit      0\n",
              "dtype: int64"
            ]
          },
          "metadata": {},
          "execution_count": 194
        }
      ],
      "source": [
        "df_mice_imputed.isnull().sum()"
      ]
    },
    {
      "cell_type": "code",
      "execution_count": null,
      "metadata": {
        "colab": {
          "base_uri": "https://localhost:8080/",
          "height": 295
        },
        "id": "gy5nQwy6Risn",
        "outputId": "145a3a3e-f05c-4990-fe91-a40dd2993969"
      },
      "outputs": [
        {
          "output_type": "display_data",
          "data": {
            "text/plain": [
              "<Figure size 432x288 with 1 Axes>"
            ],
            "image/png": "[encoded data removed]"
          },
          "metadata": {
            "needs_background": "light"
          }
        }
      ],
      "source": [
        "fig = plt.Figure()\n",
        "null_values = df['sales'].isnull() \n",
        "fig = df_mice_imputed.plot(x='sales', y='quantity', kind='scatter', c=null_values, cmap='winter', title='MICE Imputation', colorbar=False,alpha=0.75)\n"
      ]
    },
    {
      "cell_type": "markdown",
      "metadata": {
        "id": "CWk2kQtcL89k"
      },
      "source": []
    },
    {
      "cell_type": "markdown",
      "metadata": {
        "id": "SPXKQmRYMAfB"
      },
      "source": [
        "To try KNN imputation on the dataset for the null values."
      ]
    },
    {
      "cell_type": "code",
      "execution_count": null,
      "metadata": {
        "id": "gIIvXOY7RsuX"
      },
      "outputs": [],
      "source": [
        "from sklearn.impute import KNNImputer\n",
        "\n",
        "\n",
        "#Define a subset of the dataset\n",
        "df_knn = df.filter(['sales','quantity','profit','discount'], axis=1).copy()\n",
        "\n",
        "# Define KNN imputer and fill missing values\n",
        "knn_imputer = KNNImputer(n_neighbors=5, weights='uniform', metric='nan_euclidean')\n",
        "df_knn_imputed = pd.DataFrame(knn_imputer.fit_transform(df_knn), columns=df_knn.columns)"
      ]
    },
    {
      "cell_type": "code",
      "execution_count": null,
      "metadata": {
        "colab": {
          "base_uri": "https://localhost:8080/",
          "height": 295
        },
        "id": "cYMPKt8ESdcS",
        "outputId": "7d751a1b-1440-46e8-e8db-4ea660bd7ecc"
      },
      "outputs": [
        {
          "output_type": "display_data",
          "data": {
            "text/plain": [
              "<Figure size 432x288 with 1 Axes>"
            ],
            "image/png": "[encoded data removed]"
          },
          "metadata": {
            "needs_background": "light"
          }
        }
      ],
      "source": [
        "fig = plt.Figure()\n",
        "null_values = df['sales'].isnull() \n",
        "fig = df_knn_imputed.plot(x='sales', y='quantity', kind='scatter', c=null_values, cmap='winter', title='KNN Imputation', colorbar=False,alpha=0.7)"
      ]
    },
    {
      "cell_type": "markdown",
      "metadata": {
        "id": "xJFD2_xlMDnM"
      },
      "source": [
        "Using KNN imputed values finally to replace the null values."
      ]
    },
    {
      "cell_type": "code",
      "execution_count": null,
      "metadata": {
        "id": "yFvFdFRyVNbP"
      },
      "outputs": [],
      "source": [
        "df['sales']=df_knn_imputed['sales'].values"
      ]
    },
    {
      "cell_type": "markdown",
      "metadata": {
        "id": "iwwFEbjAMRAY"
      },
      "source": [
        "Replacing all null values "
      ]
    },
    {
      "cell_type": "code",
      "execution_count": null,
      "metadata": {
        "colab": {
          "base_uri": "https://localhost:8080/"
        },
        "id": "5KHjBYabV8w5",
        "outputId": "73145ddf-eaec-4cca-abcd-a6cc27a6390d"
      },
      "outputs": [
        {
          "output_type": "execute_result",
          "data": {
            "text/plain": [
              "ship_mode         0\n",
              "customer_name     0\n",
              "segment           0\n",
              "state             0\n",
              "country           0\n",
              "market            0\n",
              "region            0\n",
              "category          0\n",
              "sub_category      0\n",
              "product_name      0\n",
              "sales             0\n",
              "quantity          0\n",
              "discount          0\n",
              "profit            0\n",
              "shipping_cost     0\n",
              "order_priority    0\n",
              "year              0\n",
              "dtype: int64"
            ]
          },
          "metadata": {},
          "execution_count": 199
        }
      ],
      "source": [
        "df.isnull().sum()"
      ]
    },
    {
      "cell_type": "markdown",
      "metadata": {
        "id": "GwD4SxaQMV1_"
      },
      "source": [
        "Comparing yearly sales"
      ]
    },
    {
      "cell_type": "code",
      "execution_count": null,
      "metadata": {
        "colab": {
          "base_uri": "https://localhost:8080/",
          "height": 351
        },
        "id": "ogcrolNHV_iU",
        "outputId": "b31ef3b8-7a20-4d1b-b8bc-d19526391484"
      },
      "outputs": [
        {
          "output_type": "stream",
          "name": "stderr",
          "text": [
            "/usr/local/lib/python3.8/dist-packages/seaborn/_decorators.py:36: FutureWarning: Pass the following variables as keyword args: x, y. From version 0.12, the only valid positional argument will be `data`, and passing other arguments without an explicit keyword will result in an error or misinterpretation.\n",
            "  warnings.warn(\n"
          ]
        },
        {
          "output_type": "execute_result",
          "data": {
            "text/plain": [
              "<AxesSubplot:xlabel='year', ylabel='sales'>"
            ]
          },
          "metadata": {},
          "execution_count": 200
        },
        {
          "output_type": "display_data",
          "data": {
            "text/plain": [
              "<Figure size 432x288 with 1 Axes>"
            ],
            "image/png": "[encoded data removed]"
          },
          "metadata": {
            "needs_background": "light"
          }
        }
      ],
      "source": [
        "sns.boxplot(df['year'],df['sales'])\n"
      ]
    },
    {
      "cell_type": "markdown",
      "metadata": {
        "id": "pTyR9HePMZXq"
      },
      "source": [
        "Comparing category wise sales."
      ]
    },
    {
      "cell_type": "code",
      "source": [
        "sns.violinplot(x =\"category\",\n",
        "             y =\"sales\",\n",
        "             hue =\"year\",\n",
        "             data = df)\n",
        "plt.legend(bbox_to_anchor=(1.05, 1), loc='best', borderaxespad=0)"
      ],
      "metadata": {
        "colab": {
          "base_uri": "https://localhost:8080/",
          "height": 296
        },
        "id": "dv97AMhExkPP",
        "outputId": "7803534e-e30c-4960-bed4-6e40f9f5ec78"
      },
      "execution_count": null,
      "outputs": [
        {
          "output_type": "execute_result",
          "data": {
            "text/plain": [
              "<matplotlib.legend.Legend at 0x7fb67b3eaac0>"
            ]
          },
          "metadata": {},
          "execution_count": 201
        },
        {
          "output_type": "display_data",
          "data": {
            "text/plain": [
              "<Figure size 432x288 with 1 Axes>"
            ],
            "image/png": "[encoded data removed]"
          },
          "metadata": {
            "needs_background": "light"
          }
        }
      ]
    },
    {
      "cell_type": "markdown",
      "metadata": {
        "id": "nl09_PGuMczN"
      },
      "source": [
        "Finding out frequency of sale wrt to subcategory and their segments."
      ]
    },
    {
      "cell_type": "code",
      "execution_count": null,
      "metadata": {
        "colab": {
          "base_uri": "https://localhost:8080/",
          "height": 696
        },
        "id": "dwOwgo4-2Lzu",
        "outputId": "25b8ef58-2b49-41e9-f8f9-a5e6ca98a497"
      },
      "outputs": [
        {
          "output_type": "stream",
          "name": "stderr",
          "text": [
            "/usr/local/lib/python3.8/dist-packages/seaborn/_decorators.py:36: FutureWarning: Pass the following variable as a keyword arg: x. From version 0.12, the only valid positional argument will be `data`, and passing other arguments without an explicit keyword will result in an error or misinterpretation.\n",
            "  warnings.warn(\n"
          ]
        },
        {
          "output_type": "execute_result",
          "data": {
            "text/plain": [
              "(array([ 0,  1,  2,  3,  4,  5,  6,  7,  8,  9, 10, 11, 12, 13, 14, 15, 16]),\n",
              " [Text(0, 0, 'Storage'),\n",
              "  Text(1, 0, 'Supplies'),\n",
              "  Text(2, 0, 'Paper'),\n",
              "  Text(3, 0, 'Furnishings'),\n",
              "  Text(4, 0, 'Machines'),\n",
              "  Text(5, 0, 'Appliances'),\n",
              "  Text(6, 0, 'Copiers'),\n",
              "  Text(7, 0, 'Chairs'),\n",
              "  Text(8, 0, 'Tables'),\n",
              "  Text(9, 0, 'Bookcases'),\n",
              "  Text(10, 0, 'Phones'),\n",
              "  Text(11, 0, 'Accessories'),\n",
              "  Text(12, 0, 'Labels'),\n",
              "  Text(13, 0, 'Art'),\n",
              "  Text(14, 0, 'Envelopes'),\n",
              "  Text(15, 0, 'Fasteners'),\n",
              "  Text(16, 0, 'Binders')])"
            ]
          },
          "metadata": {},
          "execution_count": 202
        },
        {
          "output_type": "display_data",
          "data": {
            "text/plain": [
              "<Figure size 432x288 with 1 Axes>"
            ],
            "image/png": "[encoded data removed]"
          },
          "metadata": {
            "needs_background": "light"
          }
        }
      ],
      "source": [
        "sns.countplot(df['sub_category'],hue=df['segment'])\n",
        "plt.xticks(rotation=90)"
      ]
    },
    {
      "cell_type": "markdown",
      "metadata": {
        "id": "kaQ8PtERMlhU"
      },
      "source": [
        "Finally comparing the sales by sub category and category."
      ]
    },
    {
      "cell_type": "code",
      "execution_count": null,
      "metadata": {
        "colab": {
          "base_uri": "https://localhost:8080/",
          "height": 351
        },
        "id": "9ttidhPsuN61",
        "outputId": "88f2a8b7-693d-4f4c-e9ba-05dfea9d917e"
      },
      "outputs": [
        {
          "output_type": "stream",
          "name": "stderr",
          "text": [
            "/usr/local/lib/python3.8/dist-packages/seaborn/_decorators.py:36: FutureWarning: Pass the following variables as keyword args: x, y. From version 0.12, the only valid positional argument will be `data`, and passing other arguments without an explicit keyword will result in an error or misinterpretation.\n",
            "  warnings.warn(\n"
          ]
        },
        {
          "output_type": "execute_result",
          "data": {
            "text/plain": [
              "<AxesSubplot:xlabel='sales', ylabel='sub_category'>"
            ]
          },
          "metadata": {},
          "execution_count": 203
        },
        {
          "output_type": "display_data",
          "data": {
            "text/plain": [
              "<Figure size 432x288 with 1 Axes>"
            ],
            "image/png": "[encoded data removed]"
          },
          "metadata": {
            "needs_background": "light"
          }
        }
      ],
      "source": [
        "sns.barplot(df['sales'],df['sub_category'],hue=df['category'])"
      ]
    },
    {
      "cell_type": "markdown",
      "metadata": {
        "id": "x-Gkl8wgMqjc"
      },
      "source": [
        "The correlation heat map for the given dataset."
      ]
    },
    {
      "cell_type": "code",
      "execution_count": null,
      "metadata": {
        "colab": {
          "base_uri": "https://localhost:8080/",
          "height": 345
        },
        "id": "QMCtvzTBwHCb",
        "outputId": "a729d9b1-3aff-4209-bc82-047816933d1d"
      },
      "outputs": [
        {
          "output_type": "execute_result",
          "data": {
            "text/plain": [
              "<AxesSubplot:>"
            ]
          },
          "metadata": {},
          "execution_count": 204
        },
        {
          "output_type": "display_data",
          "data": {
            "text/plain": [
              "<Figure size 432x288 with 2 Axes>"
            ],
            "image/png": "[encoded data removed]"
          },
          "metadata": {
            "needs_background": "light"
          }
        }
      ],
      "source": [
        "corr=df.corr()\n",
        "sns.heatmap(corr, annot = True)"
      ]
    },
    {
      "cell_type": "markdown",
      "metadata": {
        "id": "j8MkjPs0Mv02"
      },
      "source": [
        "Finding the top 5 sold product's name."
      ]
    },
    {
      "cell_type": "code",
      "execution_count": null,
      "metadata": {
        "colab": {
          "base_uri": "https://localhost:8080/"
        },
        "id": "KS1YKZCcOEBO",
        "outputId": "a868b5dc-4e5f-4182-e1bd-afae5543dcd7"
      },
      "outputs": [
        {
          "output_type": "execute_result",
          "data": {
            "text/plain": [
              "Staples                           227\n",
              "Cardinal Index Tab, Clear          92\n",
              "Eldon File Cart, Single Width      90\n",
              "Rogers File Cart, Single Width     84\n",
              "Ibico Index Tab, Clear             83\n",
              "Name: product_name, dtype: int64"
            ]
          },
          "metadata": {},
          "execution_count": 205
        }
      ],
      "source": [
        "df['product_name'].value_counts().head(5)"
      ]
    },
    {
      "cell_type": "markdown",
      "metadata": {
        "id": "QCVtfk6vM4Cw"
      },
      "source": [
        "Checking the trend of Discounts in the top 5 sold products."
      ]
    },
    {
      "cell_type": "code",
      "execution_count": null,
      "metadata": {
        "id": "l6kCBTuKSZgH"
      },
      "outputs": [],
      "source": [
        "df3=df.loc[df['product_name'].isin([\"Staples\",\"Cardinal Index Tab, Clear\",\"Eldon File Cart, Single Width\",\"Rogers File Cart, Single Width\",\"Ibico Index Tab, Clear\"])].copy()"
      ]
    },
    {
      "cell_type": "code",
      "execution_count": null,
      "metadata": {
        "colab": {
          "base_uri": "https://localhost:8080/",
          "height": 577
        },
        "id": "dfy5vKREVdII",
        "outputId": "bef6d6ed-6114-4acd-e520-97c2ca1d3134"
      },
      "outputs": [
        {
          "output_type": "stream",
          "name": "stderr",
          "text": [
            "/usr/local/lib/python3.8/dist-packages/seaborn/_decorators.py:36: FutureWarning: Pass the following variables as keyword args: x, y. From version 0.12, the only valid positional argument will be `data`, and passing other arguments without an explicit keyword will result in an error or misinterpretation.\n",
            "  warnings.warn(\n"
          ]
        },
        {
          "output_type": "execute_result",
          "data": {
            "text/plain": [
              "([0, 1, 2, 3, 4],\n",
              " [Text(0, 0, ''),\n",
              "  Text(0, 0, ''),\n",
              "  Text(0, 0, ''),\n",
              "  Text(0, 0, ''),\n",
              "  Text(0, 0, '')])"
            ]
          },
          "metadata": {},
          "execution_count": 207
        },
        {
          "output_type": "display_data",
          "data": {
            "text/plain": [
              "<Figure size 432x288 with 1 Axes>"
            ],
            "image/png": "[encoded data removed]"
          },
          "metadata": {
            "needs_background": "light"
          }
        }
      ],
      "source": [
        "sns.scatterplot(df3['product_name'],df3['discount'])\n",
        "plt.xticks(rotation=90)"
      ]
    },
    {
      "cell_type": "markdown",
      "metadata": {
        "id": "qspyGCWRNJQ3"
      },
      "source": [
        "Checking the count of products sold with max discount."
      ]
    },
    {
      "cell_type": "code",
      "execution_count": null,
      "metadata": {
        "colab": {
          "base_uri": "https://localhost:8080/"
        },
        "id": "jjI3PUGRQHzu",
        "outputId": "1962bba2-194a-4d5e-8d5f-2d18011ce64d"
      },
      "outputs": [
        {
          "output_type": "execute_result",
          "data": {
            "text/plain": [
              "0.350    122\n",
              "0.402    104\n",
              "0.370     74\n",
              "0.202     41\n",
              "0.320     27\n",
              "0.602     23\n",
              "0.650     17\n",
              "0.570     12\n",
              "0.550     10\n",
              "0.850      2\n",
              "Name: discount, dtype: int64"
            ]
          },
          "metadata": {},
          "execution_count": 208
        }
      ],
      "source": [
        "df['discount'].value_counts().tail(10)"
      ]
    },
    {
      "cell_type": "markdown",
      "metadata": {
        "id": "_jHDJ1YqNWNX"
      },
      "source": [
        "Finally checking the trend of product's sales and discounts when discount is more than 35%."
      ]
    },
    {
      "cell_type": "code",
      "execution_count": null,
      "metadata": {
        "colab": {
          "base_uri": "https://localhost:8080/",
          "height": 624
        },
        "id": "NAIj4WwzR-4U",
        "outputId": "f75f48f7-17ed-4c4f-b209-1c55d44a907d"
      },
      "outputs": [
        {
          "output_type": "execute_result",
          "data": {
            "text/plain": [
              "            ship_mode      customer_name      segment             state  \\\n",
              "3        Second Class       Eugene Moren  Home Office         Stockholm   \n",
              "8      Standard Class       Ken Lonsdale     Consumer          Auckland   \n",
              "10       Second Class       Larry Blacks     Consumer  National Capital   \n",
              "11       Second Class       Larry Blacks     Consumer  National Capital   \n",
              "14     Standard Class       Ken Lonsdale     Consumer          Auckland   \n",
              "...               ...                ...          ...               ...   \n",
              "51266     First Class   Justin Deggeller    Corporate           Bangkok   \n",
              "51267    Second Class           Jim Kriz  Home Office     North Brabant   \n",
              "51272    Second Class           Jim Kriz  Home Office     North Brabant   \n",
              "51274    Second Class  Valerie Dominguez     Consumer             Konya   \n",
              "51275  Standard Class    Muhammed Yedwab    Corporate  National Capital   \n",
              "\n",
              "           country market          region         category sub_category  \\\n",
              "3           Sweden     EU           North  Office Supplies        Paper   \n",
              "8      New Zealand   APAC         Oceania       Technology      Copiers   \n",
              "10     Philippines   APAC  Southeast Asia  Office Supplies      Storage   \n",
              "11     Philippines   APAC  Southeast Asia        Furniture       Tables   \n",
              "14     New Zealand   APAC         Oceania        Furniture       Chairs   \n",
              "...            ...    ...             ...              ...          ...   \n",
              "51266     Thailand   APAC  Southeast Asia  Office Supplies    Envelopes   \n",
              "51267  Netherlands     EU         Central  Office Supplies          Art   \n",
              "51272  Netherlands     EU         Central  Office Supplies      Binders   \n",
              "51274       Turkey   EMEA            EMEA       Technology  Accessories   \n",
              "51275  Philippines   APAC  Southeast Asia       Technology  Accessories   \n",
              "\n",
              "                                      product_name  sales  quantity  discount  \\\n",
              "3                      Enermax Note Cards, Premium   45.0         3      0.50   \n",
              "8                      Hewlett Wireless Fax, Laser  912.0         4      0.40   \n",
              "10                       Tenex Lockers, Industrial  338.0         3      0.45   \n",
              "11       Chromcraft Round Table, Adjustable Height  211.0         1      0.55   \n",
              "14                   Hon Rocking Chair, Set of Two  159.0         2      0.40   \n",
              "...                                            ...    ...       ...       ...   \n",
              "51266  GlobeWeis Business Envelopes, Security-Tint   21.0         2      0.47   \n",
              "51267            BIC Pencil Sharpener, Fluorescent   30.0         2      0.50   \n",
              "51272                Avery Binder Covers, Recycled   23.0         4      0.50   \n",
              "51274                  SanDisk Keyboard, Bluetooth   33.0         1      0.60   \n",
              "51275                     Memorex Mouse, Bluetooth   62.0         4      0.45   \n",
              "\n",
              "         profit  shipping_cost order_priority  year  \n",
              "3      -26.0550           4.82           High  2011  \n",
              "8     -319.4640         107.10            Low  2011  \n",
              "10    -122.8005          33.75           High  2011  \n",
              "11     -70.3995          21.32           High  2011  \n",
              "14     -95.6760          10.07            Low  2011  \n",
              "...         ...            ...            ...   ...  \n",
              "51266  -14.2356           4.60           High  2014  \n",
              "51267   -9.6900           4.46           High  2014  \n",
              "51272   -6.4200           3.46           High  2014  \n",
              "51274  -25.2780           3.40         Medium  2014  \n",
              "51275  -37.2660           3.18         Medium  2014  \n",
              "\n",
              "[10212 rows x 17 columns]"
            ],
            "text/html": [
              "\n",
              "  <div id=\"df-78f4611b-5e60-4679-a3b7-f491bb22f6a4\">\n",
              "    <div class=\"colab-df-container\">\n",
              "      <div>\n",
              "<style scoped>\n",
              "    .dataframe tbody tr th:only-of-type {\n",
              "        vertical-align: middle;\n",
              "    }\n",
              "\n",
              "    .dataframe tbody tr th {\n",
              "        vertical-align: top;\n",
              "    }\n",
              "\n",
              "    .dataframe thead th {\n",
              "        text-align: right;\n",
              "    }\n",
              "</style>\n",
              "<table border=\"1\" class=\"dataframe\">\n",
              "  <thead>\n",
              "    <tr style=\"text-align: right;\">\n",
              "      <th></th>\n",
              "      <th>ship_mode</th>\n",
              "      <th>customer_name</th>\n",
              "      <th>segment</th>\n",
              "      <th>state</th>\n",
              "      <th>country</th>\n",
              "      <th>market</th>\n",
              "      <th>region</th>\n",
              "      <th>category</th>\n",
              "      <th>sub_category</th>\n",
              "      <th>product_name</th>\n",
              "      <th>sales</th>\n",
              "      <th>quantity</th>\n",
              "      <th>discount</th>\n",
              "      <th>profit</th>\n",
              "      <th>shipping_cost</th>\n",
              "      <th>order_priority</th>\n",
              "      <th>year</th>\n",
              "    </tr>\n",
              "  </thead>\n",
              "  <tbody>\n",
              "    <tr>\n",
              "      <th>3</th>\n",
              "      <td>Second Class</td>\n",
              "      <td>Eugene Moren</td>\n",
              "      <td>Home Office</td>\n",
              "      <td>Stockholm</td>\n",
              "      <td>Sweden</td>\n",
              "      <td>EU</td>\n",
              "      <td>North</td>\n",
              "      <td>Office Supplies</td>\n",
              "      <td>Paper</td>\n",
              "      <td>Enermax Note Cards, Premium</td>\n",
              "      <td>45.0</td>\n",
              "      <td>3</td>\n",
              "      <td>0.50</td>\n",
              "      <td>-26.0550</td>\n",
              "      <td>4.82</td>\n",
              "      <td>High</td>\n",
              "      <td>2011</td>\n",
              "    </tr>\n",
              "    <tr>\n",
              "      <th>8</th>\n",
              "      <td>Standard Class</td>\n",
              "      <td>Ken Lonsdale</td>\n",
              "      <td>Consumer</td>\n",
              "      <td>Auckland</td>\n",
              "      <td>New Zealand</td>\n",
              "      <td>APAC</td>\n",
              "      <td>Oceania</td>\n",
              "      <td>Technology</td>\n",
              "      <td>Copiers</td>\n",
              "      <td>Hewlett Wireless Fax, Laser</td>\n",
              "      <td>912.0</td>\n",
              "      <td>4</td>\n",
              "      <td>0.40</td>\n",
              "      <td>-319.4640</td>\n",
              "      <td>107.10</td>\n",
              "      <td>Low</td>\n",
              "      <td>2011</td>\n",
              "    </tr>\n",
              "    <tr>\n",
              "      <th>10</th>\n",
              "      <td>Second Class</td>\n",
              "      <td>Larry Blacks</td>\n",
              "      <td>Consumer</td>\n",
              "      <td>National Capital</td>\n",
              "      <td>Philippines</td>\n",
              "      <td>APAC</td>\n",
              "      <td>Southeast Asia</td>\n",
              "      <td>Office Supplies</td>\n",
              "      <td>Storage</td>\n",
              "      <td>Tenex Lockers, Industrial</td>\n",
              "      <td>338.0</td>\n",
              "      <td>3</td>\n",
              "      <td>0.45</td>\n",
              "      <td>-122.8005</td>\n",
              "      <td>33.75</td>\n",
              "      <td>High</td>\n",
              "      <td>2011</td>\n",
              "    </tr>\n",
              "    <tr>\n",
              "      <th>11</th>\n",
              "      <td>Second Class</td>\n",
              "      <td>Larry Blacks</td>\n",
              "      <td>Consumer</td>\n",
              "      <td>National Capital</td>\n",
              "      <td>Philippines</td>\n",
              "      <td>APAC</td>\n",
              "      <td>Southeast Asia</td>\n",
              "      <td>Furniture</td>\n",
              "      <td>Tables</td>\n",
              "      <td>Chromcraft Round Table, Adjustable Height</td>\n",
              "      <td>211.0</td>\n",
              "      <td>1</td>\n",
              "      <td>0.55</td>\n",
              "      <td>-70.3995</td>\n",
              "      <td>21.32</td>\n",
              "      <td>High</td>\n",
              "      <td>2011</td>\n",
              "    </tr>\n",
              "    <tr>\n",
              "      <th>14</th>\n",
              "      <td>Standard Class</td>\n",
              "      <td>Ken Lonsdale</td>\n",
              "      <td>Consumer</td>\n",
              "      <td>Auckland</td>\n",
              "      <td>New Zealand</td>\n",
              "      <td>APAC</td>\n",
              "      <td>Oceania</td>\n",
              "      <td>Furniture</td>\n",
              "      <td>Chairs</td>\n",
              "      <td>Hon Rocking Chair, Set of Two</td>\n",
              "      <td>159.0</td>\n",
              "      <td>2</td>\n",
              "      <td>0.40</td>\n",
              "      <td>-95.6760</td>\n",
              "      <td>10.07</td>\n",
              "      <td>Low</td>\n",
              "      <td>2011</td>\n",
              "    </tr>\n",
              "    <tr>\n",
              "      <th>...</th>\n",
              "      <td>...</td>\n",
              "      <td>...</td>\n",
              "      <td>...</td>\n",
              "      <td>...</td>\n",
              "      <td>...</td>\n",
              "      <td>...</td>\n",
              "      <td>...</td>\n",
              "      <td>...</td>\n",
              "      <td>...</td>\n",
              "      <td>...</td>\n",
              "      <td>...</td>\n",
              "      <td>...</td>\n",
              "      <td>...</td>\n",
              "      <td>...</td>\n",
              "      <td>...</td>\n",
              "      <td>...</td>\n",
              "      <td>...</td>\n",
              "    </tr>\n",
              "    <tr>\n",
              "      <th>51266</th>\n",
              "      <td>First Class</td>\n",
              "      <td>Justin Deggeller</td>\n",
              "      <td>Corporate</td>\n",
              "      <td>Bangkok</td>\n",
              "      <td>Thailand</td>\n",
              "      <td>APAC</td>\n",
              "      <td>Southeast Asia</td>\n",
              "      <td>Office Supplies</td>\n",
              "      <td>Envelopes</td>\n",
              "      <td>GlobeWeis Business Envelopes, Security-Tint</td>\n",
              "      <td>21.0</td>\n",
              "      <td>2</td>\n",
              "      <td>0.47</td>\n",
              "      <td>-14.2356</td>\n",
              "      <td>4.60</td>\n",
              "      <td>High</td>\n",
              "      <td>2014</td>\n",
              "    </tr>\n",
              "    <tr>\n",
              "      <th>51267</th>\n",
              "      <td>Second Class</td>\n",
              "      <td>Jim Kriz</td>\n",
              "      <td>Home Office</td>\n",
              "      <td>North Brabant</td>\n",
              "      <td>Netherlands</td>\n",
              "      <td>EU</td>\n",
              "      <td>Central</td>\n",
              "      <td>Office Supplies</td>\n",
              "      <td>Art</td>\n",
              "      <td>BIC Pencil Sharpener, Fluorescent</td>\n",
              "      <td>30.0</td>\n",
              "      <td>2</td>\n",
              "      <td>0.50</td>\n",
              "      <td>-9.6900</td>\n",
              "      <td>4.46</td>\n",
              "      <td>High</td>\n",
              "      <td>2014</td>\n",
              "    </tr>\n",
              "    <tr>\n",
              "      <th>51272</th>\n",
              "      <td>Second Class</td>\n",
              "      <td>Jim Kriz</td>\n",
              "      <td>Home Office</td>\n",
              "      <td>North Brabant</td>\n",
              "      <td>Netherlands</td>\n",
              "      <td>EU</td>\n",
              "      <td>Central</td>\n",
              "      <td>Office Supplies</td>\n",
              "      <td>Binders</td>\n",
              "      <td>Avery Binder Covers, Recycled</td>\n",
              "      <td>23.0</td>\n",
              "      <td>4</td>\n",
              "      <td>0.50</td>\n",
              "      <td>-6.4200</td>\n",
              "      <td>3.46</td>\n",
              "      <td>High</td>\n",
              "      <td>2014</td>\n",
              "    </tr>\n",
              "    <tr>\n",
              "      <th>51274</th>\n",
              "      <td>Second Class</td>\n",
              "      <td>Valerie Dominguez</td>\n",
              "      <td>Consumer</td>\n",
              "      <td>Konya</td>\n",
              "      <td>Turkey</td>\n",
              "      <td>EMEA</td>\n",
              "      <td>EMEA</td>\n",
              "      <td>Technology</td>\n",
              "      <td>Accessories</td>\n",
              "      <td>SanDisk Keyboard, Bluetooth</td>\n",
              "      <td>33.0</td>\n",
              "      <td>1</td>\n",
              "      <td>0.60</td>\n",
              "      <td>-25.2780</td>\n",
              "      <td>3.40</td>\n",
              "      <td>Medium</td>\n",
              "      <td>2014</td>\n",
              "    </tr>\n",
              "    <tr>\n",
              "      <th>51275</th>\n",
              "      <td>Standard Class</td>\n",
              "      <td>Muhammed Yedwab</td>\n",
              "      <td>Corporate</td>\n",
              "      <td>National Capital</td>\n",
              "      <td>Philippines</td>\n",
              "      <td>APAC</td>\n",
              "      <td>Southeast Asia</td>\n",
              "      <td>Technology</td>\n",
              "      <td>Accessories</td>\n",
              "      <td>Memorex Mouse, Bluetooth</td>\n",
              "      <td>62.0</td>\n",
              "      <td>4</td>\n",
              "      <td>0.45</td>\n",
              "      <td>-37.2660</td>\n",
              "      <td>3.18</td>\n",
              "      <td>Medium</td>\n",
              "      <td>2014</td>\n",
              "    </tr>\n",
              "  </tbody>\n",
              "</table>\n",
              "<p>10212 rows × 17 columns</p>\n",
              "</div>\n",
              "      <button class=\"colab-df-convert\" onclick=\"convertToInteractive('df-78f4611b-5e60-4679-a3b7-f491bb22f6a4')\"\n",
              "              title=\"Convert this dataframe to an interactive table.\"\n",
              "              style=\"display:none;\">\n",
              "        \n",
              "  <svg xmlns=\"http://www.w3.org/2000/svg\" height=\"24px\"viewBox=\"0 0 24 24\"\n",
              "       width=\"24px\">\n",
              "    <path d=\"M0 0h24v24H0V0z\" fill=\"none\"/>\n",
              "    <path d=\"M18.56 5.44l.94 2.06.94-2.06 2.06-.94-2.06-.94-.94-2.06-.94 2.06-2.06.94zm-11 1L8.5 8.5l.94-2.06 2.06-.94-2.06-.94L8.5 2.5l-.94 2.06-2.06.94zm10 10l.94 2.06.94-2.06 2.06-.94-2.06-.94-.94-2.06-.94 2.06-2.06.94z\"/><path d=\"M17.41 7.96l-1.37-1.37c-.4-.4-.92-.59-1.43-.59-.52 0-1.04.2-1.43.59L10.3 9.45l-7.72 7.72c-.78.78-.78 2.05 0 2.83L4 21.41c.39.39.9.59 1.41.59.51 0 1.02-.2 1.41-.59l7.78-7.78 2.81-2.81c.8-.78.8-2.07 0-2.86zM5.41 20L4 18.59l7.72-7.72 1.47 1.35L5.41 20z\"/>\n",
              "  </svg>\n",
              "      </button>\n",
              "      \n",
              "  <style>\n",
              "    .colab-df-container {\n",
              "      display:flex;\n",
              "      flex-wrap:wrap;\n",
              "      gap: 12px;\n",
              "    }\n",
              "\n",
              "    .colab-df-convert {\n",
              "      background-color: #E8F0FE;\n",
              "      border: none;\n",
              "      border-radius: 50%;\n",
              "      cursor: pointer;\n",
              "      display: none;\n",
              "      fill: #1967D2;\n",
              "      height: 32px;\n",
              "      padding: 0 0 0 0;\n",
              "      width: 32px;\n",
              "    }\n",
              "\n",
              "    .colab-df-convert:hover {\n",
              "      background-color: #E2EBFA;\n",
              "      box-shadow: 0px 1px 2px rgba(60, 64, 67, 0.3), 0px 1px 3px 1px rgba(60, 64, 67, 0.15);\n",
              "      fill: #174EA6;\n",
              "    }\n",
              "\n",
              "    [theme=dark] .colab-df-convert {\n",
              "      background-color: #3B4455;\n",
              "      fill: #D2E3FC;\n",
              "    }\n",
              "\n",
              "    [theme=dark] .colab-df-convert:hover {\n",
              "      background-color: #434B5C;\n",
              "      box-shadow: 0px 1px 3px 1px rgba(0, 0, 0, 0.15);\n",
              "      filter: drop-shadow(0px 1px 2px rgba(0, 0, 0, 0.3));\n",
              "      fill: #FFFFFF;\n",
              "    }\n",
              "  </style>\n",
              "\n",
              "      <script>\n",
              "        const buttonEl =\n",
              "          document.querySelector('#df-78f4611b-5e60-4679-a3b7-f491bb22f6a4 button.colab-df-convert');\n",
              "        buttonEl.style.display =\n",
              "          google.colab.kernel.accessAllowed ? 'block' : 'none';\n",
              "\n",
              "        async function convertToInteractive(key) {\n",
              "          const element = document.querySelector('#df-78f4611b-5e60-4679-a3b7-f491bb22f6a4');\n",
              "          const dataTable =\n",
              "            await google.colab.kernel.invokeFunction('convertToInteractive',\n",
              "                                                     [key], {});\n",
              "          if (!dataTable) return;\n",
              "\n",
              "          const docLinkHtml = 'Like what you see? Visit the ' +\n",
              "            '<a target=\"_blank\" href=https://colab.research.google.com/notebooks/data_table.ipynb>data table notebook</a>'\n",
              "            + ' to learn more about interactive tables.';\n",
              "          element.innerHTML = '';\n",
              "          dataTable['output_type'] = 'display_data';\n",
              "          await google.colab.output.renderOutput(dataTable, element);\n",
              "          const docLink = document.createElement('div');\n",
              "          docLink.innerHTML = docLinkHtml;\n",
              "          element.appendChild(docLink);\n",
              "        }\n",
              "      </script>\n",
              "    </div>\n",
              "  </div>\n",
              "  "
            ]
          },
          "metadata": {},
          "execution_count": 209
        }
      ],
      "source": [
        "df.loc[df['discount']> 0.350]"
      ]
    },
    {
      "cell_type": "markdown",
      "source": [
        "COMPARING HIGH DISCOUNT WITH THE SALES AND PROFIT ."
      ],
      "metadata": {
        "id": "ehz3RCu7FPcu"
      }
    },
    {
      "cell_type": "code",
      "execution_count": null,
      "metadata": {
        "colab": {
          "base_uri": "https://localhost:8080/",
          "height": 296
        },
        "id": "tVC-VC3mQaQH",
        "outputId": "f1684cff-80a9-4129-874d-a89ab97516a9"
      },
      "outputs": [
        {
          "output_type": "execute_result",
          "data": {
            "text/plain": [
              "<AxesSubplot:xlabel='discount', ylabel='sales'>"
            ]
          },
          "metadata": {},
          "execution_count": 210
        },
        {
          "output_type": "display_data",
          "data": {
            "text/plain": [
              "<Figure size 432x288 with 1 Axes>"
            ],
            "image/png": "[encoded data removed]"
          },
          "metadata": {
            "needs_background": "light"
          }
        }
      ],
      "source": [
        "df2=df.loc[df['discount']> 0.350].copy()\n",
        "sns.barplot(data=df2,x='discount',y='sales')"
      ]
    },
    {
      "cell_type": "code",
      "source": [
        "df2=df.loc[df['discount']> 0.350].copy()\n",
        "sns.barplot(data=df2,x='discount',y='profit')"
      ],
      "metadata": {
        "colab": {
          "base_uri": "https://localhost:8080/",
          "height": 300
        },
        "id": "ZbXAlCvumkqQ",
        "outputId": "24bee27d-1fd3-4798-fa92-6de8faec7f7c"
      },
      "execution_count": null,
      "outputs": [
        {
          "output_type": "execute_result",
          "data": {
            "text/plain": [
              "<AxesSubplot:xlabel='discount', ylabel='profit'>"
            ]
          },
          "metadata": {},
          "execution_count": 211
        },
        {
          "output_type": "display_data",
          "data": {
            "text/plain": [
              "<Figure size 432x288 with 1 Axes>"
            ],
            "image/png": "[encoded data removed]"
          },
          "metadata": {
            "needs_background": "light"
          }
        }
      ]
    },
    {
      "cell_type": "markdown",
      "source": [
        "VISUALIZING THE HIGHEST COUNT 5 PRODUCTS."
      ],
      "metadata": {
        "id": "YZLWMWzsFW-X"
      }
    },
    {
      "cell_type": "code",
      "execution_count": null,
      "metadata": {
        "colab": {
          "base_uri": "https://localhost:8080/",
          "height": 265
        },
        "id": "Mio4IfqrR1O6",
        "outputId": "c29707c0-5c41-4f07-a977-56d4cb5466b9"
      },
      "outputs": [
        {
          "output_type": "execute_result",
          "data": {
            "text/plain": [
              "<AxesSubplot:ylabel='product_name'>"
            ]
          },
          "metadata": {},
          "execution_count": 212
        },
        {
          "output_type": "display_data",
          "data": {
            "text/plain": [
              "<Figure size 432x288 with 1 Axes>"
            ],
            "image/png": "[encoded data removed]"
          },
          "metadata": {}
        }
      ],
      "source": [
        "df2['product_name'].value_counts().head(5).plot.pie(autopct='%.4f%%')"
      ]
    },
    {
      "cell_type": "markdown",
      "source": [
        "CALCULATING AND VISUALIZING THE MEAN SALES AND AVERAGE PROFIT EACH YEAR."
      ],
      "metadata": {
        "id": "qxOowq3cFxx1"
      }
    },
    {
      "cell_type": "code",
      "execution_count": null,
      "metadata": {
        "colab": {
          "base_uri": "https://localhost:8080/"
        },
        "id": "9suWmcXxYCpA",
        "outputId": "549b0412-52a0-4dcd-fa8f-25f2dc295c46"
      },
      "outputs": [
        {
          "output_type": "stream",
          "name": "stdout",
          "text": [
            "189.07270504556567\n",
            "187.97447546068238\n",
            "187.57969418073776\n",
            "187.47899150077006\n"
          ]
        }
      ],
      "source": [
        "s1=df.loc[df['year']==2011].copy()\n",
        "avg1=s1['sales'].mean()\n",
        "s2=df.loc[df['year']==2012].copy()\n",
        "avg2=s2['sales'].mean()\n",
        "s3=df.loc[df['year']==2013].copy()\n",
        "avg3=s3['sales'].mean()\n",
        "s4=df.loc[df['year']==2014].copy()\n",
        "avg4=s4['sales'].mean()\n",
        "print(avg1)\n",
        "print(avg2)\n",
        "print(avg3)\n",
        "print(avg4)\n"
      ]
    },
    {
      "cell_type": "code",
      "execution_count": null,
      "metadata": {
        "colab": {
          "base_uri": "https://localhost:8080/",
          "height": 337
        },
        "id": "kDpHxBgXbVmd",
        "outputId": "dbace158-841a-472f-9030-3cbc83f27a7e"
      },
      "outputs": [
        {
          "output_type": "stream",
          "name": "stderr",
          "text": [
            "/usr/local/lib/python3.8/dist-packages/seaborn/_decorators.py:36: FutureWarning: Pass the following variables as keyword args: x, y. From version 0.12, the only valid positional argument will be `data`, and passing other arguments without an explicit keyword will result in an error or misinterpretation.\n",
            "  warnings.warn(\n"
          ]
        },
        {
          "output_type": "execute_result",
          "data": {
            "text/plain": [
              "<AxesSubplot:>"
            ]
          },
          "metadata": {},
          "execution_count": 214
        },
        {
          "output_type": "display_data",
          "data": {
            "text/plain": [
              "<Figure size 432x288 with 1 Axes>"
            ],
            "image/png": "[encoded data removed]"
          },
          "metadata": {
            "needs_background": "light"
          }
        }
      ],
      "source": [
        "l1=[avg1,avg2,avg3,avg4]\n",
        "l2=[\"2011\",\"2012\",\"2013\",\"2014\"]\n",
        "sns.lineplot(l2,l1)\n"
      ]
    },
    {
      "cell_type": "code",
      "execution_count": null,
      "metadata": {
        "colab": {
          "base_uri": "https://localhost:8080/",
          "height": 337
        },
        "id": "BV0dfxVjPUUz",
        "outputId": "68d70a88-d905-4ea1-e6a7-dcbb0c393dc7"
      },
      "outputs": [
        {
          "output_type": "stream",
          "name": "stderr",
          "text": [
            "/usr/local/lib/python3.8/dist-packages/seaborn/_decorators.py:36: FutureWarning: Pass the following variables as keyword args: x, y. From version 0.12, the only valid positional argument will be `data`, and passing other arguments without an explicit keyword will result in an error or misinterpretation.\n",
            "  warnings.warn(\n"
          ]
        },
        {
          "output_type": "execute_result",
          "data": {
            "text/plain": [
              "<AxesSubplot:>"
            ]
          },
          "metadata": {},
          "execution_count": 215
        },
        {
          "output_type": "display_data",
          "data": {
            "text/plain": [
              "<Figure size 432x288 with 1 Axes>"
            ],
            "image/png": "[encoded data removed]"
          },
          "metadata": {
            "needs_background": "light"
          }
        }
      ],
      "source": [
        "s1=df.loc[df['year']==2011].copy()\n",
        "m1=s1['profit'].mean()\n",
        "s2=df.loc[df['year']==2012].copy()\n",
        "m2=s2['profit'].mean()\n",
        "s3=df.loc[df['year']==2013].copy()\n",
        "m3=s3['profit'].mean()\n",
        "s4=df.loc[df['year']==2014].copy()\n",
        "m4=s4['profit'].mean()\n",
        "l1=[m1,m2,m3,m4]\n",
        "l2=[\"2011\",\"2012\",\"2013\",\"2014\"]\n",
        "sns.lineplot(l2,l1)\n"
      ]
    },
    {
      "cell_type": "code",
      "execution_count": null,
      "metadata": {
        "colab": {
          "base_uri": "https://localhost:8080/",
          "height": 351
        },
        "id": "jT8XtjPEeezt",
        "outputId": "2454ed93-5f26-468f-f685-a03f047cd2d0"
      },
      "outputs": [
        {
          "output_type": "stream",
          "name": "stderr",
          "text": [
            "/usr/local/lib/python3.8/dist-packages/seaborn/distributions.py:2619: FutureWarning: `distplot` is a deprecated function and will be removed in a future version. Please adapt your code to use either `displot` (a figure-level function with similar flexibility) or `histplot` (an axes-level function for histograms).\n",
            "  warnings.warn(msg, FutureWarning)\n"
          ]
        },
        {
          "output_type": "execute_result",
          "data": {
            "text/plain": [
              "<AxesSubplot:xlabel='sales', ylabel='Density'>"
            ]
          },
          "metadata": {},
          "execution_count": 216
        },
        {
          "output_type": "display_data",
          "data": {
            "text/plain": [
              "<Figure size 432x288 with 1 Axes>"
            ],
            "image/png": "[encoded data removed]"
          },
          "metadata": {
            "needs_background": "light"
          }
        }
      ],
      "source": [
        "#FINDING THE DENSITY OF SALES\n",
        "sns.distplot(df['sales'])"
      ]
    },
    {
      "cell_type": "code",
      "execution_count": null,
      "metadata": {
        "colab": {
          "base_uri": "https://localhost:8080/",
          "height": 351
        },
        "id": "T2Yo_VIFMMeL",
        "outputId": "a547712e-e6b9-4749-85ca-c7b294e66abd"
      },
      "outputs": [
        {
          "output_type": "stream",
          "name": "stderr",
          "text": [
            "/usr/local/lib/python3.8/dist-packages/seaborn/distributions.py:2619: FutureWarning: `distplot` is a deprecated function and will be removed in a future version. Please adapt your code to use either `displot` (a figure-level function with similar flexibility) or `histplot` (an axes-level function for histograms).\n",
            "  warnings.warn(msg, FutureWarning)\n"
          ]
        },
        {
          "output_type": "execute_result",
          "data": {
            "text/plain": [
              "<AxesSubplot:xlabel='profit', ylabel='Density'>"
            ]
          },
          "metadata": {},
          "execution_count": 217
        },
        {
          "output_type": "display_data",
          "data": {
            "text/plain": [
              "<Figure size 432x288 with 1 Axes>"
            ],
            "image/png": "[encoded data removed]"
          },
          "metadata": {
            "needs_background": "light"
          }
        }
      ],
      "source": [
        "#VISUALIZING DENSITY OF PROFIT\n",
        "sns.distplot(df['profit'])"
      ]
    },
    {
      "cell_type": "markdown",
      "source": [
        "VISUALIZING THE FREQUENCY OF PRODUCTS SOLD AND THE PROFIT GAINED MARKET-WISE."
      ],
      "metadata": {
        "id": "5z2m3N8xGQg0"
      }
    },
    {
      "cell_type": "code",
      "execution_count": null,
      "metadata": {
        "colab": {
          "base_uri": "https://localhost:8080/",
          "height": 279
        },
        "id": "UYKRPKU5F2-s",
        "outputId": "a81ec64a-3836-4cef-ff28-45bd73b0d6d4"
      },
      "outputs": [
        {
          "output_type": "display_data",
          "data": {
            "text/plain": [
              "<Figure size 432x288 with 1 Axes>"
            ],
            "image/png": "[encoded data removed]"
          },
          "metadata": {
            "needs_background": "light"
          }
        }
      ],
      "source": [
        "plt.hist(df.market,bins=40,rwidth=0.8)\n",
        "plt.xlabel('market')\n",
        "plt.ylabel('count')\n",
        "plt.show()"
      ]
    },
    {
      "cell_type": "code",
      "execution_count": null,
      "metadata": {
        "colab": {
          "base_uri": "https://localhost:8080/",
          "height": 379
        },
        "id": "ZSSmym_bQ0nD",
        "outputId": "bc5caeed-b022-4cc2-dd42-a8657b5745c4"
      },
      "outputs": [
        {
          "output_type": "execute_result",
          "data": {
            "text/plain": [
              "Text(0, 0.5, 'In millions')"
            ]
          },
          "metadata": {},
          "execution_count": 219
        },
        {
          "output_type": "display_data",
          "data": {
            "text/plain": [
              "<Figure size 1152x360 with 1 Axes>"
            ],
            "image/png": "[encoded data removed]"
          },
          "metadata": {
            "needs_background": "light"
          }
        }
      ],
      "source": [
        "market_profits = df.groupby('market').sum()[['profit']]\n",
        "market_profits.plot(kind='bar',figsize=(16,5))\n",
        "plt.ylabel(\"In millions\")"
      ]
    },
    {
      "cell_type": "markdown",
      "source": [
        "MODELLING\n"
      ],
      "metadata": {
        "id": "s6Bl2dDg_Sue"
      }
    },
    {
      "cell_type": "code",
      "source": [
        "df.nunique()"
      ],
      "metadata": {
        "colab": {
          "base_uri": "https://localhost:8080/"
        },
        "id": "_iWgSLFhC3_R",
        "outputId": "b758f430-dda6-4467-8f1c-6db773fecbe2"
      },
      "execution_count": null,
      "outputs": [
        {
          "output_type": "execute_result",
          "data": {
            "text/plain": [
              "ship_mode             4\n",
              "customer_name       795\n",
              "segment               3\n",
              "state              1094\n",
              "country             147\n",
              "market                7\n",
              "region               13\n",
              "category              3\n",
              "sub_category         17\n",
              "product_name       3788\n",
              "sales              1945\n",
              "quantity             14\n",
              "discount             27\n",
              "profit            24575\n",
              "shipping_cost     10037\n",
              "order_priority        4\n",
              "year                  4\n",
              "dtype: int64"
            ]
          },
          "metadata": {},
          "execution_count": 220
        }
      ]
    },
    {
      "cell_type": "markdown",
      "source": [
        "DROPPING NON CATEGORICAL VALUES."
      ],
      "metadata": {
        "id": "Bm-vYczUTEHA"
      }
    },
    {
      "cell_type": "code",
      "source": [
        "df=df.drop(['product_name','country','state','customer_name','order_priority','state','country','region','ship_mode'],axis=1)"
      ],
      "metadata": {
        "id": "Z2NIi_zUEYLq"
      },
      "execution_count": null,
      "outputs": []
    },
    {
      "cell_type": "code",
      "source": [
        "df.info()"
      ],
      "metadata": {
        "colab": {
          "base_uri": "https://localhost:8080/"
        },
        "id": "8d2dIwln9xjA",
        "outputId": "a72abc2a-b46d-42e8-c2db-58559696ad16"
      },
      "execution_count": null,
      "outputs": [
        {
          "output_type": "stream",
          "name": "stdout",
          "text": [
            "<class 'pandas.core.frame.DataFrame'>\n",
            "RangeIndex: 51290 entries, 0 to 51289\n",
            "Data columns (total 10 columns):\n",
            " #   Column         Non-Null Count  Dtype  \n",
            "---  ------         --------------  -----  \n",
            " 0   segment        51290 non-null  object \n",
            " 1   market         51290 non-null  object \n",
            " 2   category       51290 non-null  object \n",
            " 3   sub_category   51290 non-null  object \n",
            " 4   sales          51290 non-null  float64\n",
            " 5   quantity       51290 non-null  int64  \n",
            " 6   discount       51290 non-null  float64\n",
            " 7   profit         51290 non-null  float64\n",
            " 8   shipping_cost  51290 non-null  float64\n",
            " 9   year           51290 non-null  int64  \n",
            "dtypes: float64(4), int64(2), object(4)\n",
            "memory usage: 3.9+ MB\n"
          ]
        }
      ]
    },
    {
      "cell_type": "markdown",
      "source": [
        "ENCODING THE CATEGORICAL VALUES"
      ],
      "metadata": {
        "id": "8yxI5KRpTJKS"
      }
    },
    {
      "cell_type": "code",
      "source": [
        "from sklearn import preprocessing\n",
        "\n",
        "label_encoder = preprocessing.LabelEncoder()\n",
        "\n",
        "df['market']= label_encoder.fit_transform(df['market'])\n",
        "  \n",
        "df['market'].unique()"
      ],
      "metadata": {
        "colab": {
          "base_uri": "https://localhost:8080/"
        },
        "id": "VFcIQNNTEkTD",
        "outputId": "94f9888f-1cae-4938-be0f-a8ca72deea20"
      },
      "execution_count": null,
      "outputs": [
        {
          "output_type": "execute_result",
          "data": {
            "text/plain": [
              "array([1, 0, 3, 4, 2, 5, 6])"
            ]
          },
          "metadata": {},
          "execution_count": 223
        }
      ]
    },
    {
      "cell_type": "code",
      "source": [
        "\n",
        "df['segment']= label_encoder.fit_transform(df['segment'])\n",
        "  \n",
        "df['segment'].unique()"
      ],
      "metadata": {
        "id": "uK2glvJ6Ffof",
        "colab": {
          "base_uri": "https://localhost:8080/"
        },
        "outputId": "22ac8b2f-0e10-4e9f-eaf1-b7458fd858da"
      },
      "execution_count": null,
      "outputs": [
        {
          "output_type": "execute_result",
          "data": {
            "text/plain": [
              "array([0, 2, 1])"
            ]
          },
          "metadata": {},
          "execution_count": 224
        }
      ]
    },
    {
      "cell_type": "code",
      "source": [
        "df['category']= label_encoder.fit_transform(df['category'])\n",
        "  \n",
        "df['category'].unique()"
      ],
      "metadata": {
        "colab": {
          "base_uri": "https://localhost:8080/"
        },
        "id": "k9e9e8GzKcgG",
        "outputId": "abaa02c8-6f2a-46e2-a774-35895e85b884"
      },
      "execution_count": null,
      "outputs": [
        {
          "output_type": "execute_result",
          "data": {
            "text/plain": [
              "array([1, 0, 2])"
            ]
          },
          "metadata": {},
          "execution_count": 225
        }
      ]
    },
    {
      "cell_type": "code",
      "source": [
        "df['sub_category']= label_encoder.fit_transform(df['sub_category'])\n",
        "  \n",
        "df['sub_category'].unique()"
      ],
      "metadata": {
        "colab": {
          "base_uri": "https://localhost:8080/"
        },
        "id": "KSydx6-2KpjO",
        "outputId": "e94cfad1-ecc4-41cb-a85c-db0666584e6f"
      },
      "execution_count": null,
      "outputs": [
        {
          "output_type": "execute_result",
          "data": {
            "text/plain": [
              "array([14, 15, 12,  9, 11,  1,  6,  5, 16,  4, 13,  0, 10,  2,  7,  8,  3])"
            ]
          },
          "metadata": {},
          "execution_count": 226
        }
      ]
    },
    {
      "cell_type": "code",
      "source": [
        "df.info()"
      ],
      "metadata": {
        "colab": {
          "base_uri": "https://localhost:8080/"
        },
        "id": "JQQGyWuLK0kr",
        "outputId": "3d6319ef-5434-485a-f8aa-22f0141a8b6b"
      },
      "execution_count": null,
      "outputs": [
        {
          "output_type": "stream",
          "name": "stdout",
          "text": [
            "<class 'pandas.core.frame.DataFrame'>\n",
            "RangeIndex: 51290 entries, 0 to 51289\n",
            "Data columns (total 10 columns):\n",
            " #   Column         Non-Null Count  Dtype  \n",
            "---  ------         --------------  -----  \n",
            " 0   segment        51290 non-null  int64  \n",
            " 1   market         51290 non-null  int64  \n",
            " 2   category       51290 non-null  int64  \n",
            " 3   sub_category   51290 non-null  int64  \n",
            " 4   sales          51290 non-null  float64\n",
            " 5   quantity       51290 non-null  int64  \n",
            " 6   discount       51290 non-null  float64\n",
            " 7   profit         51290 non-null  float64\n",
            " 8   shipping_cost  51290 non-null  float64\n",
            " 9   year           51290 non-null  int64  \n",
            "dtypes: float64(4), int64(6)\n",
            "memory usage: 3.9 MB\n"
          ]
        }
      ]
    },
    {
      "cell_type": "markdown",
      "source": [
        "DECISION TREE CLASSIFIER"
      ],
      "metadata": {
        "id": "6qdRSVJwAMWo"
      }
    },
    {
      "cell_type": "markdown",
      "source": [
        "DECISION TREE IMPLEMENTATION USING GINI INDEX AND PREDICTED VALUES."
      ],
      "metadata": {
        "id": "DELGX0hfKGwD"
      }
    },
    {
      "cell_type": "code",
      "source": [
        "from sklearn.metrics import confusion_matrix\n",
        "from sklearn.model_selection import train_test_split\n",
        "from sklearn.tree import DecisionTreeClassifier\n",
        "from sklearn.metrics import accuracy_score\n",
        "from sklearn.metrics import classification_report\n",
        "# Function to perform training with giniIndex.\n",
        "def train_using_gini(X_train, X_test, y_train):\n",
        "  \n",
        "    # Creating the classifier object\n",
        "    clf_gini = DecisionTreeClassifier(criterion = \"gini\",\n",
        "            random_state = 100,max_depth=3, min_samples_leaf=5)\n",
        "  \n",
        "    # Performing training\n",
        "    clf_gini.fit(X_train, y_train)\n",
        "    return clf_gini\n",
        "      \n",
        "\n",
        "  \n",
        "  \n",
        "# Function to make predictions\n",
        "def prediction(X_test, clf_object):\n",
        "  \n",
        "    # Predicton on test with giniIndex\n",
        "    y_pred = clf_object.predict(X_test)\n",
        "    print(\"Predicted values:\")\n",
        "    print(y_pred)\n",
        "    return y_pred\n",
        "      \n",
        "# Function to calculate accuracy\n",
        "def cal_accuracy(y_test, y_pred):\n",
        "      \n",
        "    print(\"Confusion Matrix: \",\n",
        "        confusion_matrix(y_test, y_pred))\n",
        "      \n",
        "    print (\"Accuracy : \",\n",
        "    accuracy_score(y_test,y_pred)*100)\n",
        "      \n",
        "    print(\"Report : \",\n",
        "    classification_report(y_test, y_pred))\n",
        "  \n",
        "# Driver code\n",
        "def main():\n",
        "      \n",
        "    # Building Phase\n",
        " y = df['quantity']\n",
        " X = df.drop('profit', axis = 1)\n",
        " X = df.drop('discount', axis = 1)\n",
        " X = df.drop('sales', axis = 1)\n",
        " X = df.drop('shipping_cost', axis = 1)\n",
        " X_train, X_test, y_train, y_test = train_test_split( \n",
        " X, y, test_size = 0.3, random_state = 100)\n",
        " clf_gini = train_using_gini(X_train, X_test, y_train)\n",
        " \n",
        "      \n",
        "    # Operational Phase\n",
        " print(\"Results Using Gini Index:\")\n",
        "      \n",
        "    # Prediction using gini\n",
        " y_pred_gini = prediction(X_test, clf_gini)\n",
        " cal_accuracy(y_test, y_pred_gini)\n",
        "      \n",
        "\n",
        "    \n",
        "      \n",
        "      \n",
        "# Calling main function\n",
        "if __name__==\"__main__\":\n",
        "    main()"
      ],
      "metadata": {
        "colab": {
          "base_uri": "https://localhost:8080/"
        },
        "id": "Uhm93uQkCO6N",
        "outputId": "ac3dc12b-2090-4743-c9b5-77b2b60a870f"
      },
      "execution_count": null,
      "outputs": [
        {
          "output_type": "stream",
          "name": "stdout",
          "text": [
            "Results Using Gini Index:\n",
            "Predicted values:\n",
            "[1 4 2 ... 1 3 1]\n",
            "Confusion Matrix:  [[2731    0    0    0    0    0    0    0    0    0    0    0    0    0]\n",
            " [   0 3794    0    0    0    0    0    0    0    0    0    0    0    0]\n",
            " [   0    0 2909    0    0    0    0    0    0    0    0    0    0    0]\n",
            " [   0    0    0 1887    0    0    0    0    0    0    0    0    0    0]\n",
            " [   0    0    0    0 1471    0    0    0    0    0    0    0    0    0]\n",
            " [   0    0    0    0  921    0    0    0    0    0    0    0    0    0]\n",
            " [   0    0    0    0  721    0    0    0    0    0    0    0    0    0]\n",
            " [   0    0    0    0  408    0    0    0    0    0    0    0    0    0]\n",
            " [   0    0    0    0  277    0    0    0    0    0    0    0    0    0]\n",
            " [   0    0    0    0   81    0    0    0    0    0    0    0    0    0]\n",
            " [   0    0    0    0   51    0    0    0    0    0    0    0    0    0]\n",
            " [   0    0    0    0   51    0    0    0    0    0    0    0    0    0]\n",
            " [   0    0    0    0   35    0    0    0    0    0    0    0    0    0]\n",
            " [   0    0    0    0   50    0    0    0    0    0    0    0    0    0]]\n",
            "Accuracy :  83.13511405732112\n",
            "Report :                precision    recall  f1-score   support\n",
            "\n",
            "           1       1.00      1.00      1.00      2731\n",
            "           2       1.00      1.00      1.00      3794\n",
            "           3       1.00      1.00      1.00      2909\n",
            "           4       1.00      1.00      1.00      1887\n",
            "           5       0.36      1.00      0.53      1471\n",
            "           6       0.00      0.00      0.00       921\n",
            "           7       0.00      0.00      0.00       721\n",
            "           8       0.00      0.00      0.00       408\n",
            "           9       0.00      0.00      0.00       277\n",
            "          10       0.00      0.00      0.00        81\n",
            "          11       0.00      0.00      0.00        51\n",
            "          12       0.00      0.00      0.00        51\n",
            "          13       0.00      0.00      0.00        35\n",
            "          14       0.00      0.00      0.00        50\n",
            "\n",
            "    accuracy                           0.83     15387\n",
            "   macro avg       0.31      0.36      0.32     15387\n",
            "weighted avg       0.77      0.83      0.79     15387\n",
            "\n"
          ]
        },
        {
          "output_type": "stream",
          "name": "stderr",
          "text": [
            "/usr/local/lib/python3.8/dist-packages/sklearn/metrics/_classification.py:1318: UndefinedMetricWarning: Precision and F-score are ill-defined and being set to 0.0 in labels with no predicted samples. Use `zero_division` parameter to control this behavior.\n",
            "  _warn_prf(average, modifier, msg_start, len(result))\n",
            "/usr/local/lib/python3.8/dist-packages/sklearn/metrics/_classification.py:1318: UndefinedMetricWarning: Precision and F-score are ill-defined and being set to 0.0 in labels with no predicted samples. Use `zero_division` parameter to control this behavior.\n",
            "  _warn_prf(average, modifier, msg_start, len(result))\n",
            "/usr/local/lib/python3.8/dist-packages/sklearn/metrics/_classification.py:1318: UndefinedMetricWarning: Precision and F-score are ill-defined and being set to 0.0 in labels with no predicted samples. Use `zero_division` parameter to control this behavior.\n",
            "  _warn_prf(average, modifier, msg_start, len(result))\n"
          ]
        }
      ]
    }
  ],
  "metadata": {
    "colab": {
      "provenance": []
    },
    "kernelspec": {
      "display_name": "Python 3",
      "name": "python3"
    },
    "language_info": {
      "name": "python"
    }
  },
  "nbformat": 4,
  "nbformat_minor": 0
}
